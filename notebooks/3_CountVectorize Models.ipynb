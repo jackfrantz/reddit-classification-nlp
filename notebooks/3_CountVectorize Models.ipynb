{
 "cells": [
  {
   "cell_type": "markdown",
   "id": "1334afe1-2b80-45a5-821c-a00b0c783af3",
   "metadata": {},
   "source": [
    "# CountVectorizer Models"
   ]
  },
  {
   "cell_type": "code",
   "execution_count": 1,
   "id": "af60fbbd-3570-43d1-95ae-10ee8f8fb33a",
   "metadata": {
    "tags": []
   },
   "outputs": [],
   "source": [
    "# Imports\n",
    "import pandas as pd\n",
    "import numpy as np\n",
    "import matplotlib.pyplot as plt\n",
    "import seaborn as sns\n",
    "\n",
    "# sklearn imports\n",
    "from sklearn.linear_model import LogisticRegression\n",
    "from sklearn.model_selection import train_test_split, GridSearchCV\n",
    "from sklearn.pipeline import Pipeline\n",
    "from sklearn.feature_extraction.text import CountVectorizer\n",
    "from sklearn.naive_bayes import MultinomialNB\n",
    "from sklearn.preprocessing import OneHotEncoder\n",
    "from sklearn.compose import ColumnTransformer\n",
    "from sklearn.metrics import confusion_matrix, ConfusionMatrixDisplay, RocCurveDisplay\n",
    "\n",
    "# Ignore warnings\n",
    "import warnings\n",
    "warnings.filterwarnings('ignore')\n",
    "\n",
    "from sklearn.exceptions import ConvergenceWarning"
   ]
  },
  {
   "cell_type": "markdown",
   "id": "ab168fba-4613-432e-bcfd-8707c17429a5",
   "metadata": {},
   "source": [
    "## Import Data"
   ]
  },
  {
   "cell_type": "code",
   "execution_count": 2,
   "id": "9d2570a0-21a5-4d3d-b302-b98d0c1fc0b0",
   "metadata": {
    "tags": []
   },
   "outputs": [],
   "source": [
    "posts = pd.read_csv('../data/combined_genz_mill_posts.csv')"
   ]
  },
  {
   "cell_type": "code",
   "execution_count": 3,
   "id": "9aa6904d-dea9-4d0a-9318-84d044fe69c1",
   "metadata": {
    "tags": []
   },
   "outputs": [
    {
     "data": {
      "text/html": [
       "<div>\n",
       "<style scoped>\n",
       "    .dataframe tbody tr th:only-of-type {\n",
       "        vertical-align: middle;\n",
       "    }\n",
       "\n",
       "    .dataframe tbody tr th {\n",
       "        vertical-align: top;\n",
       "    }\n",
       "\n",
       "    .dataframe thead th {\n",
       "        text-align: right;\n",
       "    }\n",
       "</style>\n",
       "<table border=\"1\" class=\"dataframe\">\n",
       "  <thead>\n",
       "    <tr style=\"text-align: right;\">\n",
       "      <th></th>\n",
       "      <th>title</th>\n",
       "      <th>selftext</th>\n",
       "      <th>subreddit</th>\n",
       "    </tr>\n",
       "  </thead>\n",
       "  <tbody>\n",
       "    <tr>\n",
       "      <th>0</th>\n",
       "      <td>What have you learned this week?</td>\n",
       "      <td>NaN</td>\n",
       "      <td>r/GenZ</td>\n",
       "    </tr>\n",
       "    <tr>\n",
       "      <th>1</th>\n",
       "      <td>r/GenZ Is in need of more moderators! Read below:</td>\n",
       "      <td>In the past few months, we've been getting inc...</td>\n",
       "      <td>r/GenZ</td>\n",
       "    </tr>\n",
       "    <tr>\n",
       "      <th>2</th>\n",
       "      <td>Who else remembers Net Neutrality and when thi...</td>\n",
       "      <td>NaN</td>\n",
       "      <td>r/GenZ</td>\n",
       "    </tr>\n",
       "    <tr>\n",
       "      <th>3</th>\n",
       "      <td>This sub lately.</td>\n",
       "      <td>NaN</td>\n",
       "      <td>r/GenZ</td>\n",
       "    </tr>\n",
       "    <tr>\n",
       "      <th>4</th>\n",
       "      <td>You guys are absolutely pathetic</td>\n",
       "      <td>Where do I even start? It's just constant comp...</td>\n",
       "      <td>r/GenZ</td>\n",
       "    </tr>\n",
       "  </tbody>\n",
       "</table>\n",
       "</div>"
      ],
      "text/plain": [
       "                                               title  \\\n",
       "0                   What have you learned this week?   \n",
       "1  r/GenZ Is in need of more moderators! Read below:   \n",
       "2  Who else remembers Net Neutrality and when thi...   \n",
       "3                                   This sub lately.   \n",
       "4                   You guys are absolutely pathetic   \n",
       "\n",
       "                                            selftext subreddit  \n",
       "0                                                NaN    r/GenZ  \n",
       "1  In the past few months, we've been getting inc...    r/GenZ  \n",
       "2                                                NaN    r/GenZ  \n",
       "3                                                NaN    r/GenZ  \n",
       "4  Where do I even start? It's just constant comp...    r/GenZ  "
      ]
     },
     "execution_count": 3,
     "metadata": {},
     "output_type": "execute_result"
    }
   ],
   "source": [
    "posts.head()"
   ]
  },
  {
   "cell_type": "markdown",
   "id": "22d2d32b-997a-452b-ad51-9a71897c0b7c",
   "metadata": {},
   "source": [
    "### Null Values"
   ]
  },
  {
   "cell_type": "markdown",
   "id": "3543f2bc-ecc5-406b-a434-c282d8b85060",
   "metadata": {},
   "source": [
    "Instead of dropping any empty rows, we can combine the title and post content to create a new 'all_text' column filled with all the text in the post"
   ]
  },
  {
   "cell_type": "code",
   "execution_count": 4,
   "id": "eef8dffd-640e-4a18-a698-69c615bc4645",
   "metadata": {
    "tags": []
   },
   "outputs": [
    {
     "data": {
      "text/plain": [
       "title          0\n",
       "selftext     543\n",
       "subreddit      0\n",
       "dtype: int64"
      ]
     },
     "execution_count": 4,
     "metadata": {},
     "output_type": "execute_result"
    }
   ],
   "source": [
    "posts.isna().sum()"
   ]
  },
  {
   "cell_type": "code",
   "execution_count": 5,
   "id": "9124cd8f-357c-4f9d-aa47-b230aeef4f5d",
   "metadata": {
    "tags": []
   },
   "outputs": [
    {
     "data": {
      "text/html": [
       "<div>\n",
       "<style scoped>\n",
       "    .dataframe tbody tr th:only-of-type {\n",
       "        vertical-align: middle;\n",
       "    }\n",
       "\n",
       "    .dataframe tbody tr th {\n",
       "        vertical-align: top;\n",
       "    }\n",
       "\n",
       "    .dataframe thead th {\n",
       "        text-align: right;\n",
       "    }\n",
       "</style>\n",
       "<table border=\"1\" class=\"dataframe\">\n",
       "  <thead>\n",
       "    <tr style=\"text-align: right;\">\n",
       "      <th></th>\n",
       "      <th>title</th>\n",
       "      <th>selftext</th>\n",
       "      <th>subreddit</th>\n",
       "      <th>all_text</th>\n",
       "    </tr>\n",
       "  </thead>\n",
       "  <tbody>\n",
       "    <tr>\n",
       "      <th>0</th>\n",
       "      <td>What have you learned this week?</td>\n",
       "      <td>NaN</td>\n",
       "      <td>r/GenZ</td>\n",
       "      <td>What have you learned this week?:</td>\n",
       "    </tr>\n",
       "    <tr>\n",
       "      <th>1</th>\n",
       "      <td>r/GenZ Is in need of more moderators! Read below:</td>\n",
       "      <td>In the past few months, we've been getting inc...</td>\n",
       "      <td>r/GenZ</td>\n",
       "      <td>r/GenZ Is in need of more moderators! Read bel...</td>\n",
       "    </tr>\n",
       "    <tr>\n",
       "      <th>2</th>\n",
       "      <td>Who else remembers Net Neutrality and when thi...</td>\n",
       "      <td>NaN</td>\n",
       "      <td>r/GenZ</td>\n",
       "      <td>Who else remembers Net Neutrality and when thi...</td>\n",
       "    </tr>\n",
       "    <tr>\n",
       "      <th>3</th>\n",
       "      <td>This sub lately.</td>\n",
       "      <td>NaN</td>\n",
       "      <td>r/GenZ</td>\n",
       "      <td>This sub lately.:</td>\n",
       "    </tr>\n",
       "    <tr>\n",
       "      <th>4</th>\n",
       "      <td>You guys are absolutely pathetic</td>\n",
       "      <td>Where do I even start? It's just constant comp...</td>\n",
       "      <td>r/GenZ</td>\n",
       "      <td>You guys are absolutely pathetic: Where do I e...</td>\n",
       "    </tr>\n",
       "  </tbody>\n",
       "</table>\n",
       "</div>"
      ],
      "text/plain": [
       "                                               title  \\\n",
       "0                   What have you learned this week?   \n",
       "1  r/GenZ Is in need of more moderators! Read below:   \n",
       "2  Who else remembers Net Neutrality and when thi...   \n",
       "3                                   This sub lately.   \n",
       "4                   You guys are absolutely pathetic   \n",
       "\n",
       "                                            selftext subreddit  \\\n",
       "0                                                NaN    r/GenZ   \n",
       "1  In the past few months, we've been getting inc...    r/GenZ   \n",
       "2                                                NaN    r/GenZ   \n",
       "3                                                NaN    r/GenZ   \n",
       "4  Where do I even start? It's just constant comp...    r/GenZ   \n",
       "\n",
       "                                            all_text  \n",
       "0                 What have you learned this week?:   \n",
       "1  r/GenZ Is in need of more moderators! Read bel...  \n",
       "2  Who else remembers Net Neutrality and when thi...  \n",
       "3                                 This sub lately.:   \n",
       "4  You guys are absolutely pathetic: Where do I e...  "
      ]
     },
     "execution_count": 5,
     "metadata": {},
     "output_type": "execute_result"
    }
   ],
   "source": [
    "posts['all_text'] = posts['title'] + ': ' + posts['selftext'].fillna('')\n",
    "\n",
    "posts.head()"
   ]
  },
  {
   "cell_type": "code",
   "execution_count": 6,
   "id": "31509244-c01c-47c7-a7f9-6193c129d124",
   "metadata": {
    "tags": []
   },
   "outputs": [
    {
     "data": {
      "text/plain": [
       "title          0\n",
       "selftext     543\n",
       "subreddit      0\n",
       "all_text       0\n",
       "dtype: int64"
      ]
     },
     "execution_count": 6,
     "metadata": {},
     "output_type": "execute_result"
    }
   ],
   "source": [
    "# New 'all_text' column should have no null values\n",
    "posts.isna().sum()"
   ]
  },
  {
   "cell_type": "markdown",
   "id": "0bca3fea-8cb3-4319-aabb-f5744dd7f4d2",
   "metadata": {},
   "source": [
    "### Changing 'subreddit' to Numeric"
   ]
  },
  {
   "cell_type": "markdown",
   "id": "4dbf1ecc-54bc-4a00-beea-53d188d4cc2a",
   "metadata": {},
   "source": [
    "Currently, the subreddit the post originated in is stored in the 'subreddit' column as a string. We need a numeric value to create our models."
   ]
  },
  {
   "cell_type": "code",
   "execution_count": 7,
   "id": "25db7dae-d81b-49d4-9efa-d23850db7736",
   "metadata": {
    "tags": []
   },
   "outputs": [
    {
     "data": {
      "text/plain": [
       "array(['r/GenZ', 'r/Millennials'], dtype=object)"
      ]
     },
     "execution_count": 7,
     "metadata": {},
     "output_type": "execute_result"
    }
   ],
   "source": [
    "posts['subreddit'].unique()"
   ]
  },
  {
   "cell_type": "markdown",
   "id": "3431e0a6-7ddb-4b37-9859-62e321f81167",
   "metadata": {},
   "source": [
    "We can create a new column that will be the target in our models based on whether the post is in r/GenZ"
   ]
  },
  {
   "cell_type": "code",
   "execution_count": 8,
   "id": "7ffd25f7-886a-43a2-830b-e73cb3af563c",
   "metadata": {
    "tags": []
   },
   "outputs": [],
   "source": [
    "posts['is_gen_z'] = posts['subreddit'].map({'r/GenZ': 1, 'r/Millennials': 0})"
   ]
  },
  {
   "cell_type": "code",
   "execution_count": 9,
   "id": "e1f3896e-a78f-4723-9170-91b683a4ea2c",
   "metadata": {
    "tags": []
   },
   "outputs": [
    {
     "data": {
      "text/plain": [
       "array([1, 0])"
      ]
     },
     "execution_count": 9,
     "metadata": {},
     "output_type": "execute_result"
    }
   ],
   "source": [
    "posts['is_gen_z'].unique()"
   ]
  },
  {
   "cell_type": "markdown",
   "id": "e0b37aa5-6ce2-4510-833b-524c17ed7a6b",
   "metadata": {
    "tags": []
   },
   "source": [
    "## Train/Test Split"
   ]
  },
  {
   "cell_type": "markdown",
   "id": "3aef2c7f-6030-4a82-a0ce-e0abee8b955d",
   "metadata": {},
   "source": [
    "We will be training our model on the combined 'all_text' column (X), with our target (y) being the 'is_gen_z' column. There is no need to stratify because the number of posts from each subreddit are similar. We have almost 2000 posts, so a standard test size of .2 should be sufficient. We can use a random state of 42 to keep our findings consistent."
   ]
  },
  {
   "cell_type": "code",
   "execution_count": 10,
   "id": "93803827-e17a-4f89-975b-5ada96d88e81",
   "metadata": {
    "tags": []
   },
   "outputs": [],
   "source": [
    "X = posts['all_text']\n",
    "y = posts['is_gen_z']\n",
    "\n",
    "X_train, X_test, y_train, y_test = train_test_split(X, y, test_size = .2, random_state = 42)"
   ]
  },
  {
   "cell_type": "markdown",
   "id": "06ed9e5b-4c1f-4387-9ca3-6941677297cb",
   "metadata": {
    "tags": []
   },
   "source": [
    "### Baseline Accuracy\n",
    "The proportions of each subreddit in the y_train will give us the baseline accuracy. This baseline accuracy will be the same accross all models we make going forward. "
   ]
  },
  {
   "cell_type": "code",
   "execution_count": 11,
   "id": "b8ec45bf-7c41-4f94-a5ba-b094512ca725",
   "metadata": {
    "tags": []
   },
   "outputs": [
    {
     "data": {
      "text/plain": [
       "is_gen_z\n",
       "1    0.501948\n",
       "0    0.498052\n",
       "Name: proportion, dtype: float64"
      ]
     },
     "execution_count": 11,
     "metadata": {},
     "output_type": "execute_result"
    }
   ],
   "source": [
    "y_train.value_counts(normalize=True)"
   ]
  },
  {
   "cell_type": "markdown",
   "id": "6ca848ed-58c4-4814-a0d2-55f8f6e99b89",
   "metadata": {},
   "source": [
    "If the proprtions in the y_test set are simlar to y_train, it will confirm we do not need to stratify our data."
   ]
  },
  {
   "cell_type": "code",
   "execution_count": 12,
   "id": "aae3df0c-38a8-4493-9b77-04c4303a2bb4",
   "metadata": {
    "tags": []
   },
   "outputs": [
    {
     "data": {
      "text/plain": [
       "is_gen_z\n",
       "0    0.502591\n",
       "1    0.497409\n",
       "Name: proportion, dtype: float64"
      ]
     },
     "execution_count": 12,
     "metadata": {},
     "output_type": "execute_result"
    }
   ],
   "source": [
    "y_test.value_counts(normalize=True)"
   ]
  },
  {
   "cell_type": "markdown",
   "id": "06ad7a5b-1a6e-4627-8d45-6cc39feaf759",
   "metadata": {},
   "source": [
    "## Logistic Regression"
   ]
  },
  {
   "cell_type": "code",
   "execution_count": 13,
   "id": "8de7b6a8-2de7-4937-9636-3ea5d4910acd",
   "metadata": {
    "tags": []
   },
   "outputs": [],
   "source": [
    "pipe = Pipeline([\n",
    "    ('cvec', CountVectorizer()),\n",
    "    ('lr', LogisticRegression())\n",
    "])"
   ]
  },
  {
   "cell_type": "markdown",
   "id": "aa3ff221-e480-463d-b58d-e20f468a5062",
   "metadata": {},
   "source": [
    "The parameters we are searching over will be a limit for the maximum features or words included, stop words , a minimum and maximum frequency in the data, and an accent stripper to properly format the data. The model will also try combinations of words that appear next to each other."
   ]
  },
  {
   "cell_type": "code",
   "execution_count": 21,
   "id": "aa1d6bfb-c37e-40e0-9674-219837d512c2",
   "metadata": {
    "tags": []
   },
   "outputs": [],
   "source": [
    "pipe_params = {\n",
    "    'cvec__max_features': [2000, 3000, 4000, None],\n",
    "    'cvec__stop_words': [None, 'english'],\n",
    "    'cvec__min_df': [2, 4, 50],\n",
    "    'cvec__max_df': [1.0, 0.8, 0.5],\n",
    "    'cvec__ngram_range': [(1, 1), (1, 2), (1, 3)],\n",
    "    'cvec__strip_accents': ['ascii', 'unicode'],\n",
    "    'lr__penalty': ['l1', 'l2', 'elasticnet', 'none']\n",
    "}"
   ]
  },
  {
   "cell_type": "code",
   "execution_count": 22,
   "id": "7ade494e-6c50-4686-a731-63408e8aa052",
   "metadata": {
    "tags": []
   },
   "outputs": [],
   "source": [
    "gs = GridSearchCV(pipe,\n",
    "                 param_grid=pipe_params,\n",
    "                 n_jobs=-1)"
   ]
  },
  {
   "cell_type": "code",
   "execution_count": null,
   "id": "24e04861-ec34-4b6a-8975-fbbed839faac",
   "metadata": {
    "scrolled": true,
    "tags": []
   },
   "outputs": [],
   "source": [
    "gs.fit(X_train, y_train)"
   ]
  },
  {
   "cell_type": "code",
   "execution_count": 24,
   "id": "98880428-5d03-41ad-99b7-9a0095f9729d",
   "metadata": {
    "tags": []
   },
   "outputs": [
    {
     "name": "stdout",
     "output_type": "stream",
     "text": [
      "0.7363636363636363\n"
     ]
    },
    {
     "data": {
      "text/plain": [
       "{'cvec__max_df': 1.0,\n",
       " 'cvec__max_features': 3000,\n",
       " 'cvec__min_df': 2,\n",
       " 'cvec__ngram_range': (1, 1),\n",
       " 'cvec__stop_words': 'english',\n",
       " 'cvec__strip_accents': 'unicode',\n",
       " 'lr__penalty': 'l2'}"
      ]
     },
     "execution_count": 24,
     "metadata": {},
     "output_type": "execute_result"
    }
   ],
   "source": [
    "print(gs.best_score_)\n",
    "gs.best_params_"
   ]
  },
  {
   "cell_type": "code",
   "execution_count": 25,
   "id": "a9c0239a-1eb1-4a97-b1e4-55121fb3b199",
   "metadata": {
    "tags": []
   },
   "outputs": [
    {
     "name": "stdout",
     "output_type": "stream",
     "text": [
      "Training score: 0.9759740259740259\n",
      "Testing score: 0.7979274611398963\n"
     ]
    }
   ],
   "source": [
    "print(f\"Training score: {gs.score(X_train, y_train)}\")\n",
    "print(f\"Testing score: {gs.score(X_test, y_test)}\")"
   ]
  },
  {
   "cell_type": "markdown",
   "id": "d923360a-98ed-4e0a-8501-18b2b365fabe",
   "metadata": {},
   "source": [
    "**Interpretation:** This combination of using Count Vectorizer to set up a logistic regression significantly outperformed the baseline accuracy. This model achieved a test score of .7979 compared to the score of .5019 from the baseline accuracy. The top performing parameters include removing english stop words, formatting the data using unicode, and a max feature count of 3000."
   ]
  },
  {
   "cell_type": "markdown",
   "id": "19af6d5f-a7bd-47a1-9484-003a70f8bf38",
   "metadata": {},
   "source": [
    "### Visualizations"
   ]
  },
  {
   "cell_type": "code",
   "execution_count": 26,
   "id": "d8a6ee13-f49b-4ed9-8471-6ff0aae04bcb",
   "metadata": {
    "tags": []
   },
   "outputs": [
    {
     "data": {
      "image/png": "[encoded data removed]",
      "text/plain": [
       "<Figure size 640x480 with 2 Axes>"
      ]
     },
     "metadata": {},
     "output_type": "display_data"
    }
   ],
   "source": [
    "# Create Confusion Matrix\n",
    "preds = gs.predict(X_test)\n",
    "tn, fp, fn, tp = confusion_matrix(y_test, preds).ravel()\n",
    "\n",
    "# Plot confusion matrix\n",
    "disp = ConfusionMatrixDisplay(confusion_matrix=confusion_matrix(y_test, preds),\n",
    "                             display_labels=gs.classes_)\n",
    "disp.plot();"
   ]
  },
  {
   "cell_type": "code",
   "execution_count": 27,
   "id": "b019ecab-234b-44ec-b650-7df3053f4f59",
   "metadata": {
    "tags": []
   },
   "outputs": [
    {
     "data": {
      "image/png": "[encoded data removed]",
      "text/plain": [
       "<Figure size 640x480 with 1 Axes>"
      ]
     },
     "metadata": {},
     "output_type": "display_data"
    }
   ],
   "source": [
    "# Plot Roc Curve\n",
    "RocCurveDisplay.from_estimator(gs, X_test, y_test);"
   ]
  },
  {
   "cell_type": "markdown",
   "id": "3fff82e3-d303-40a1-9361-516dd4627397",
   "metadata": {},
   "source": [
    "**Interpretations:** False positive's are the biggest issue in this model, with 56, compared to only 22 false negatives. When predicting that a post was made in r/GenZ, this model was correct 75.22% of the time, compared to 86.25% of the time when predicting that a post was made in r/Millennials."
   ]
  },
  {
   "cell_type": "markdown",
   "id": "023c4061-82dc-4ca0-aa8f-2fd66e7ac2d1",
   "metadata": {},
   "source": [
    "## Multinomial Naive Bayes"
   ]
  },
  {
   "cell_type": "markdown",
   "id": "b60ff466-40fa-4851-b40d-dedc73267f9c",
   "metadata": {},
   "source": [
    "We will now repeat the analysis above on a model that uses Naive Bayes instead of a Logistic Regression."
   ]
  },
  {
   "cell_type": "code",
   "execution_count": 28,
   "id": "02d4812b-d5d4-41cb-b1a9-06b030d123a6",
   "metadata": {
    "tags": []
   },
   "outputs": [],
   "source": [
    "pipe_nb = Pipeline([\n",
    "    ('cvec', CountVectorizer()),\n",
    "    ('nb', MultinomialNB())\n",
    "])"
   ]
  },
  {
   "cell_type": "markdown",
   "id": "257e9800-6ef5-43a6-970f-4769cdaf9597",
   "metadata": {},
   "source": [
    "We will be searching over similar parameters, making sure to include ones that were successful in previous models."
   ]
  },
  {
   "cell_type": "code",
   "execution_count": 29,
   "id": "e6b70bff-dbab-4533-983f-17b6cddd821b",
   "metadata": {
    "tags": []
   },
   "outputs": [],
   "source": [
    "pipe_params_nb = {\n",
    "    'cvec__max_features': [2000, 3000, 4000, None],\n",
    "    'cvec__min_df': [2, 4, .1],\n",
    "    'cvec__max_df': [1.0, 0.9, 0.8],\n",
    "    'cvec__ngram_range': [(1, 1), (1, 2), (1, 3)],\n",
    "    'cvec__strip_accents': ['ascii', 'unicode']\n",
    "}"
   ]
  },
  {
   "cell_type": "code",
   "execution_count": 30,
   "id": "91ce293f-f02c-4b27-825f-e64a195e8abf",
   "metadata": {
    "tags": []
   },
   "outputs": [],
   "source": [
    "gs_nb = GridSearchCV(pipe_nb,\n",
    "                 param_grid=pipe_params_nb,\n",
    "                 n_jobs=-1)"
   ]
  },
  {
   "cell_type": "code",
   "execution_count": 31,
   "id": "51acab23-fe7a-4dae-8a70-8483c507c8cc",
   "metadata": {
    "tags": []
   },
   "outputs": [
    {
     "data": {
      "text/html": [
       "<style>#sk-container-id-3 {color: black;}#sk-container-id-3 pre{padding: 0;}#sk-container-id-3 div.sk-toggleable {background-color: white;}#sk-container-id-3 label.sk-toggleable__label {cursor: pointer;display: block;width: 100%;margin-bottom: 0;padding: 0.3em;box-sizing: border-box;text-align: center;}#sk-container-id-3 label.sk-toggleable__label-arrow:before {content: \"▸\";float: left;margin-right: 0.25em;color: #696969;}#sk-container-id-3 label.sk-toggleable__label-arrow:hover:before {color: black;}#sk-container-id-3 div.sk-estimator:hover label.sk-toggleable__label-arrow:before {color: black;}#sk-container-id-3 div.sk-toggleable__content {max-height: 0;max-width: 0;overflow: hidden;text-align: left;background-color: #f0f8ff;}#sk-container-id-3 div.sk-toggleable__content pre {margin: 0.2em;color: black;border-radius: 0.25em;background-color: #f0f8ff;}#sk-container-id-3 input.sk-toggleable__control:checked~div.sk-toggleable__content {max-height: 200px;max-width: 100%;overflow: auto;}#sk-container-id-3 input.sk-toggleable__control:checked~label.sk-toggleable__label-arrow:before {content: \"▾\";}#sk-container-id-3 div.sk-estimator input.sk-toggleable__control:checked~label.sk-toggleable__label {background-color: #d4ebff;}#sk-container-id-3 div.sk-label input.sk-toggleable__control:checked~label.sk-toggleable__label {background-color: #d4ebff;}#sk-container-id-3 input.sk-hidden--visually {border: 0;clip: rect(1px 1px 1px 1px);clip: rect(1px, 1px, 1px, 1px);height: 1px;margin: -1px;overflow: hidden;padding: 0;position: absolute;width: 1px;}#sk-container-id-3 div.sk-estimator {font-family: monospace;background-color: #f0f8ff;border: 1px dotted black;border-radius: 0.25em;box-sizing: border-box;margin-bottom: 0.5em;}#sk-container-id-3 div.sk-estimator:hover {background-color: #d4ebff;}#sk-container-id-3 div.sk-parallel-item::after {content: \"\";width: 100%;border-bottom: 1px solid gray;flex-grow: 1;}#sk-container-id-3 div.sk-label:hover label.sk-toggleable__label {background-color: #d4ebff;}#sk-container-id-3 div.sk-serial::before {content: \"\";position: absolute;border-left: 1px solid gray;box-sizing: border-box;top: 0;bottom: 0;left: 50%;z-index: 0;}#sk-container-id-3 div.sk-serial {display: flex;flex-direction: column;align-items: center;background-color: white;padding-right: 0.2em;padding-left: 0.2em;position: relative;}#sk-container-id-3 div.sk-item {position: relative;z-index: 1;}#sk-container-id-3 div.sk-parallel {display: flex;align-items: stretch;justify-content: center;background-color: white;position: relative;}#sk-container-id-3 div.sk-item::before, #sk-container-id-3 div.sk-parallel-item::before {content: \"\";position: absolute;border-left: 1px solid gray;box-sizing: border-box;top: 0;bottom: 0;left: 50%;z-index: -1;}#sk-container-id-3 div.sk-parallel-item {display: flex;flex-direction: column;z-index: 1;position: relative;background-color: white;}#sk-container-id-3 div.sk-parallel-item:first-child::after {align-self: flex-end;width: 50%;}#sk-container-id-3 div.sk-parallel-item:last-child::after {align-self: flex-start;width: 50%;}#sk-container-id-3 div.sk-parallel-item:only-child::after {width: 0;}#sk-container-id-3 div.sk-dashed-wrapped {border: 1px dashed gray;margin: 0 0.4em 0.5em 0.4em;box-sizing: border-box;padding-bottom: 0.4em;background-color: white;}#sk-container-id-3 div.sk-label label {font-family: monospace;font-weight: bold;display: inline-block;line-height: 1.2em;}#sk-container-id-3 div.sk-label-container {text-align: center;}#sk-container-id-3 div.sk-container {/* jupyter's `normalize.less` sets `[hidden] { display: none; }` but bootstrap.min.css set `[hidden] { display: none !important; }` so we also need the `!important` here to be able to override the default hidden behavior on the sphinx rendered scikit-learn.org. See: https://github.com/scikit-learn/scikit-learn/issues/21755 */display: inline-block !important;position: relative;}#sk-container-id-3 div.sk-text-repr-fallback {display: none;}</style><div id=\"sk-container-id-3\" class=\"sk-top-container\"><div class=\"sk-text-repr-fallback\"><pre>GridSearchCV(estimator=Pipeline(steps=[(&#x27;cvec&#x27;, CountVectorizer()),\n",
       "                                       (&#x27;nb&#x27;, MultinomialNB())]),\n",
       "             n_jobs=-1,\n",
       "             param_grid={&#x27;cvec__max_df&#x27;: [1.0, 0.9, 0.8],\n",
       "                         &#x27;cvec__max_features&#x27;: [2000, 3000, 4000, None],\n",
       "                         &#x27;cvec__min_df&#x27;: [2, 4, 0.1],\n",
       "                         &#x27;cvec__ngram_range&#x27;: [(1, 1), (1, 2), (1, 3)],\n",
       "                         &#x27;cvec__strip_accents&#x27;: [&#x27;ascii&#x27;, &#x27;unicode&#x27;]})</pre><b>In a Jupyter environment, please rerun this cell to show the HTML representation or trust the notebook. <br />On GitHub, the HTML representation is unable to render, please try loading this page with nbviewer.org.</b></div><div class=\"sk-container\" hidden><div class=\"sk-item sk-dashed-wrapped\"><div class=\"sk-label-container\"><div class=\"sk-label sk-toggleable\"><input class=\"sk-toggleable__control sk-hidden--visually\" id=\"sk-estimator-id-9\" type=\"checkbox\" ><label for=\"sk-estimator-id-9\" class=\"sk-toggleable__label sk-toggleable__label-arrow\">GridSearchCV</label><div class=\"sk-toggleable__content\"><pre>GridSearchCV(estimator=Pipeline(steps=[(&#x27;cvec&#x27;, CountVectorizer()),\n",
       "                                       (&#x27;nb&#x27;, MultinomialNB())]),\n",
       "             n_jobs=-1,\n",
       "             param_grid={&#x27;cvec__max_df&#x27;: [1.0, 0.9, 0.8],\n",
       "                         &#x27;cvec__max_features&#x27;: [2000, 3000, 4000, None],\n",
       "                         &#x27;cvec__min_df&#x27;: [2, 4, 0.1],\n",
       "                         &#x27;cvec__ngram_range&#x27;: [(1, 1), (1, 2), (1, 3)],\n",
       "                         &#x27;cvec__strip_accents&#x27;: [&#x27;ascii&#x27;, &#x27;unicode&#x27;]})</pre></div></div></div><div class=\"sk-parallel\"><div class=\"sk-parallel-item\"><div class=\"sk-item\"><div class=\"sk-label-container\"><div class=\"sk-label sk-toggleable\"><input class=\"sk-toggleable__control sk-hidden--visually\" id=\"sk-estimator-id-10\" type=\"checkbox\" ><label for=\"sk-estimator-id-10\" class=\"sk-toggleable__label sk-toggleable__label-arrow\">estimator: Pipeline</label><div class=\"sk-toggleable__content\"><pre>Pipeline(steps=[(&#x27;cvec&#x27;, CountVectorizer()), (&#x27;nb&#x27;, MultinomialNB())])</pre></div></div></div><div class=\"sk-serial\"><div class=\"sk-item\"><div class=\"sk-serial\"><div class=\"sk-item\"><div class=\"sk-estimator sk-toggleable\"><input class=\"sk-toggleable__control sk-hidden--visually\" id=\"sk-estimator-id-11\" type=\"checkbox\" ><label for=\"sk-estimator-id-11\" class=\"sk-toggleable__label sk-toggleable__label-arrow\">CountVectorizer</label><div class=\"sk-toggleable__content\"><pre>CountVectorizer()</pre></div></div></div><div class=\"sk-item\"><div class=\"sk-estimator sk-toggleable\"><input class=\"sk-toggleable__control sk-hidden--visually\" id=\"sk-estimator-id-12\" type=\"checkbox\" ><label for=\"sk-estimator-id-12\" class=\"sk-toggleable__label sk-toggleable__label-arrow\">MultinomialNB</label><div class=\"sk-toggleable__content\"><pre>MultinomialNB()</pre></div></div></div></div></div></div></div></div></div></div></div></div>"
      ],
      "text/plain": [
       "GridSearchCV(estimator=Pipeline(steps=[('cvec', CountVectorizer()),\n",
       "                                       ('nb', MultinomialNB())]),\n",
       "             n_jobs=-1,\n",
       "             param_grid={'cvec__max_df': [1.0, 0.9, 0.8],\n",
       "                         'cvec__max_features': [2000, 3000, 4000, None],\n",
       "                         'cvec__min_df': [2, 4, 0.1],\n",
       "                         'cvec__ngram_range': [(1, 1), (1, 2), (1, 3)],\n",
       "                         'cvec__strip_accents': ['ascii', 'unicode']})"
      ]
     },
     "execution_count": 31,
     "metadata": {},
     "output_type": "execute_result"
    }
   ],
   "source": [
    "gs_nb.fit(X_train, y_train)"
   ]
  },
  {
   "cell_type": "code",
   "execution_count": 32,
   "id": "cfe4d49c-f3d0-4e44-90b5-1c7c391abf01",
   "metadata": {
    "tags": []
   },
   "outputs": [
    {
     "name": "stdout",
     "output_type": "stream",
     "text": [
      "0.7084415584415584\n"
     ]
    },
    {
     "data": {
      "text/plain": [
       "{'cvec__max_df': 1.0,\n",
       " 'cvec__max_features': 4000,\n",
       " 'cvec__min_df': 2,\n",
       " 'cvec__ngram_range': (1, 3),\n",
       " 'cvec__strip_accents': 'ascii'}"
      ]
     },
     "execution_count": 32,
     "metadata": {},
     "output_type": "execute_result"
    }
   ],
   "source": [
    "print(gs_nb.best_score_)\n",
    "gs_nb.best_params_"
   ]
  },
  {
   "cell_type": "code",
   "execution_count": 33,
   "id": "a00fed47-1b9c-4a18-bb0a-1ad1f31f3215",
   "metadata": {
    "tags": []
   },
   "outputs": [
    {
     "name": "stdout",
     "output_type": "stream",
     "text": [
      "Training score: 0.8415584415584415\n",
      "Testing score: 0.7253886010362695\n"
     ]
    }
   ],
   "source": [
    "print(f\"Training score: {gs_nb.score(X_train, y_train)}\")\n",
    "print(f\"Testing score: {gs_nb.score(X_test, y_test)}\")"
   ]
  },
  {
   "cell_type": "markdown",
   "id": "1732e306-0b6c-4b98-82e5-b046a1a8c29d",
   "metadata": {},
   "source": [
    "**Interpretation:** This model is not as overfit as the previous model, but the test score of 0.7254 is slightly lower. There is still a gap of .12 between our train and test scores, so the issue of overfitting wasn't completely solved. Interestingly, this model tested better with an n-gram range of (1, 3), whereas increasing the ngram range did not imporve our logistic regression model."
   ]
  },
  {
   "cell_type": "markdown",
   "id": "a351f678-cf46-41ef-bc1a-643033b52ed8",
   "metadata": {},
   "source": [
    "### Visualizations\n",
    "We will also make a confusion matrix and Roc curve to visualize this model and compare to our previous iteration."
   ]
  },
  {
   "cell_type": "code",
   "execution_count": 34,
   "id": "e62e258e-3091-4c1c-88e8-b1ce44c2ed08",
   "metadata": {
    "tags": []
   },
   "outputs": [
    {
     "data": {
      "image/png": "[encoded data removed]",
      "text/plain": [
       "<Figure size 640x480 with 2 Axes>"
      ]
     },
     "metadata": {},
     "output_type": "display_data"
    }
   ],
   "source": [
    "# Create Confusion Matrix\n",
    "preds_nb = gs_nb.predict(X_test)\n",
    "tn_nb, fp_nb, fn_nb, tp_nb = confusion_matrix(y_test, preds_nb).ravel()\n",
    "\n",
    "# Plot Confusion Matrix\n",
    "disp_nb = ConfusionMatrixDisplay(confusion_matrix=confusion_matrix(y_test, preds_nb),\n",
    "                             display_labels=gs_nb.classes_)\n",
    "disp_nb.plot();"
   ]
  },
  {
   "cell_type": "code",
   "execution_count": 35,
   "id": "4ee9b63d-e260-40b5-85f1-7de7e14ed81c",
   "metadata": {
    "tags": []
   },
   "outputs": [
    {
     "data": {
      "image/png": "[encoded data removed]",
      "text/plain": [
       "<Figure size 640x480 with 1 Axes>"
      ]
     },
     "metadata": {},
     "output_type": "display_data"
    }
   ],
   "source": [
    "# Plot Roc Curve\n",
    "RocCurveDisplay.from_estimator(gs_nb, X_test, y_test);"
   ]
  },
  {
   "cell_type": "markdown",
   "id": "db9250c0-5cd7-4b79-98a2-bbb3b8752923",
   "metadata": {},
   "source": [
    "**Interpretations:** Even though the Naive Bayes model was not as strong as our logistic regression model, it is more even in it's type of errors. The false positives and false negatives are more even in this model as opposed to the logistic regression, which tended to have more false positives"
   ]
  },
  {
   "cell_type": "code",
   "execution_count": null,
   "id": "d29121ea-6ab7-4964-8b66-bfe6f605c69c",
   "metadata": {},
   "outputs": [],
   "source": []
  }
 ],
 "metadata": {
  "kernelspec": {
   "display_name": "Python 3 (ipykernel)",
   "language": "python",
   "name": "python3"
  },
  "language_info": {
   "codemirror_mode": {
    "name": "ipython",
    "version": 3
   },
   "file_extension": ".py",
   "mimetype": "text/x-python",
   "name": "python",
   "nbconvert_exporter": "python",
   "pygments_lexer": "ipython3",
   "version": "3.11.5"
  }
 },
 "nbformat": 4,
 "nbformat_minor": 5
}
