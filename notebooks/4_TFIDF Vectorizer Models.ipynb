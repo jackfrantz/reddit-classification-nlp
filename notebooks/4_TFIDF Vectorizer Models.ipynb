{
 "cells": [
  {
   "cell_type": "markdown",
   "id": "0f01d4fc-bb9b-4a35-b1b7-a4d497f005e3",
   "metadata": {},
   "source": [
    "# TFIDF Vectorizer Models"
   ]
  },
  {
   "cell_type": "code",
   "execution_count": 2,
   "id": "cb403593-db98-475b-9997-1e38154ee497",
   "metadata": {
    "tags": []
   },
   "outputs": [],
   "source": [
    "# Imports\n",
    "import pandas as pd\n",
    "import numpy as np\n",
    "import matplotlib.pyplot as plt\n",
    "import seaborn as sns\n",
    "\n",
    "# sklearn imports\n",
    "from sklearn.model_selection import train_test_split, GridSearchCV\n",
    "from sklearn.pipeline import Pipeline\n",
    "from sklearn.linear_model import LogisticRegression\n",
    "from sklearn.naive_bayes import MultinomialNB\n",
    "from sklearn.feature_extraction.text import TfidfVectorizer\n",
    "from sklearn.preprocessing import OneHotEncoder\n",
    "from sklearn.compose import ColumnTransformer\n",
    "from sklearn.metrics import confusion_matrix, ConfusionMatrixDisplay, RocCurveDisplay\n",
    "\n",
    "# Ignore warnings\n",
    "import warnings\n",
    "warnings.filterwarnings('ignore')\n",
    "\n",
    "from sklearn.exceptions import ConvergenceWarning"
   ]
  },
  {
   "cell_type": "markdown",
   "id": "e1d2149c-6b5f-49af-8c7f-8ccd72414662",
   "metadata": {},
   "source": [
    "## Import Data\n",
    "We will be using the same data as the CountVectorize models. To make sure that the data is consistent we will follow the same steps for importing, cleaning, and creating the 'all_text' column. For more detailed commentary in this section, please refer to the Count Vectorizer Models notebook."
   ]
  },
  {
   "cell_type": "code",
   "execution_count": 4,
   "id": "57cfe23f-e52e-4417-ab2c-2e3de4c34b45",
   "metadata": {
    "tags": []
   },
   "outputs": [],
   "source": [
    "posts = pd.read_csv('../data/combined_genz_mill_posts.csv')"
   ]
  },
  {
   "cell_type": "code",
   "execution_count": 5,
   "id": "5a77f44e-0711-41f7-af47-7e776012bc67",
   "metadata": {
    "tags": []
   },
   "outputs": [
    {
     "data": {
      "text/html": [
       "<div>\n",
       "<style scoped>\n",
       "    .dataframe tbody tr th:only-of-type {\n",
       "        vertical-align: middle;\n",
       "    }\n",
       "\n",
       "    .dataframe tbody tr th {\n",
       "        vertical-align: top;\n",
       "    }\n",
       "\n",
       "    .dataframe thead th {\n",
       "        text-align: right;\n",
       "    }\n",
       "</style>\n",
       "<table border=\"1\" class=\"dataframe\">\n",
       "  <thead>\n",
       "    <tr style=\"text-align: right;\">\n",
       "      <th></th>\n",
       "      <th>title</th>\n",
       "      <th>selftext</th>\n",
       "      <th>subreddit</th>\n",
       "    </tr>\n",
       "  </thead>\n",
       "  <tbody>\n",
       "    <tr>\n",
       "      <th>0</th>\n",
       "      <td>What have you learned this week?</td>\n",
       "      <td>NaN</td>\n",
       "      <td>r/GenZ</td>\n",
       "    </tr>\n",
       "    <tr>\n",
       "      <th>1</th>\n",
       "      <td>r/GenZ Is in need of more moderators! Read below:</td>\n",
       "      <td>In the past few months, we've been getting inc...</td>\n",
       "      <td>r/GenZ</td>\n",
       "    </tr>\n",
       "    <tr>\n",
       "      <th>2</th>\n",
       "      <td>Who else remembers Net Neutrality and when thi...</td>\n",
       "      <td>NaN</td>\n",
       "      <td>r/GenZ</td>\n",
       "    </tr>\n",
       "    <tr>\n",
       "      <th>3</th>\n",
       "      <td>This sub lately.</td>\n",
       "      <td>NaN</td>\n",
       "      <td>r/GenZ</td>\n",
       "    </tr>\n",
       "    <tr>\n",
       "      <th>4</th>\n",
       "      <td>You guys are absolutely pathetic</td>\n",
       "      <td>Where do I even start? It's just constant comp...</td>\n",
       "      <td>r/GenZ</td>\n",
       "    </tr>\n",
       "  </tbody>\n",
       "</table>\n",
       "</div>"
      ],
      "text/plain": [
       "                                               title  \\\n",
       "0                   What have you learned this week?   \n",
       "1  r/GenZ Is in need of more moderators! Read below:   \n",
       "2  Who else remembers Net Neutrality and when thi...   \n",
       "3                                   This sub lately.   \n",
       "4                   You guys are absolutely pathetic   \n",
       "\n",
       "                                            selftext subreddit  \n",
       "0                                                NaN    r/GenZ  \n",
       "1  In the past few months, we've been getting inc...    r/GenZ  \n",
       "2                                                NaN    r/GenZ  \n",
       "3                                                NaN    r/GenZ  \n",
       "4  Where do I even start? It's just constant comp...    r/GenZ  "
      ]
     },
     "execution_count": 5,
     "metadata": {},
     "output_type": "execute_result"
    }
   ],
   "source": [
    "posts.head()"
   ]
  },
  {
   "cell_type": "markdown",
   "id": "38a326bd-6935-4ff2-ac79-75b02f1206be",
   "metadata": {},
   "source": [
    "### Null Values"
   ]
  },
  {
   "cell_type": "markdown",
   "id": "393c20e1-aee1-4862-85b4-31fc2b0ca3df",
   "metadata": {},
   "source": [
    "Instead of dropping any empty rows, we can combine the title and post content to create a new 'all_text' column filled with all the text in the post"
   ]
  },
  {
   "cell_type": "code",
   "execution_count": 4,
   "id": "0c0747ec-cde5-46b4-be81-451c5997e548",
   "metadata": {
    "tags": []
   },
   "outputs": [
    {
     "data": {
      "text/plain": [
       "title          0\n",
       "selftext     543\n",
       "subreddit      0\n",
       "dtype: int64"
      ]
     },
     "execution_count": 4,
     "metadata": {},
     "output_type": "execute_result"
    }
   ],
   "source": [
    "posts.isna().sum()"
   ]
  },
  {
   "cell_type": "code",
   "execution_count": 5,
   "id": "84ff3543-d770-4686-b6e7-9492de893614",
   "metadata": {
    "tags": []
   },
   "outputs": [
    {
     "data": {
      "text/html": [
       "<div>\n",
       "<style scoped>\n",
       "    .dataframe tbody tr th:only-of-type {\n",
       "        vertical-align: middle;\n",
       "    }\n",
       "\n",
       "    .dataframe tbody tr th {\n",
       "        vertical-align: top;\n",
       "    }\n",
       "\n",
       "    .dataframe thead th {\n",
       "        text-align: right;\n",
       "    }\n",
       "</style>\n",
       "<table border=\"1\" class=\"dataframe\">\n",
       "  <thead>\n",
       "    <tr style=\"text-align: right;\">\n",
       "      <th></th>\n",
       "      <th>title</th>\n",
       "      <th>selftext</th>\n",
       "      <th>subreddit</th>\n",
       "      <th>all_text</th>\n",
       "    </tr>\n",
       "  </thead>\n",
       "  <tbody>\n",
       "    <tr>\n",
       "      <th>0</th>\n",
       "      <td>What have you learned this week?</td>\n",
       "      <td>NaN</td>\n",
       "      <td>r/GenZ</td>\n",
       "      <td>What have you learned this week?:</td>\n",
       "    </tr>\n",
       "    <tr>\n",
       "      <th>1</th>\n",
       "      <td>r/GenZ Is in need of more moderators! Read below:</td>\n",
       "      <td>In the past few months, we've been getting inc...</td>\n",
       "      <td>r/GenZ</td>\n",
       "      <td>r/GenZ Is in need of more moderators! Read bel...</td>\n",
       "    </tr>\n",
       "    <tr>\n",
       "      <th>2</th>\n",
       "      <td>Who else remembers Net Neutrality and when thi...</td>\n",
       "      <td>NaN</td>\n",
       "      <td>r/GenZ</td>\n",
       "      <td>Who else remembers Net Neutrality and when thi...</td>\n",
       "    </tr>\n",
       "    <tr>\n",
       "      <th>3</th>\n",
       "      <td>This sub lately.</td>\n",
       "      <td>NaN</td>\n",
       "      <td>r/GenZ</td>\n",
       "      <td>This sub lately.:</td>\n",
       "    </tr>\n",
       "    <tr>\n",
       "      <th>4</th>\n",
       "      <td>You guys are absolutely pathetic</td>\n",
       "      <td>Where do I even start? It's just constant comp...</td>\n",
       "      <td>r/GenZ</td>\n",
       "      <td>You guys are absolutely pathetic: Where do I e...</td>\n",
       "    </tr>\n",
       "  </tbody>\n",
       "</table>\n",
       "</div>"
      ],
      "text/plain": [
       "                                               title  \\\n",
       "0                   What have you learned this week?   \n",
       "1  r/GenZ Is in need of more moderators! Read below:   \n",
       "2  Who else remembers Net Neutrality and when thi...   \n",
       "3                                   This sub lately.   \n",
       "4                   You guys are absolutely pathetic   \n",
       "\n",
       "                                            selftext subreddit  \\\n",
       "0                                                NaN    r/GenZ   \n",
       "1  In the past few months, we've been getting inc...    r/GenZ   \n",
       "2                                                NaN    r/GenZ   \n",
       "3                                                NaN    r/GenZ   \n",
       "4  Where do I even start? It's just constant comp...    r/GenZ   \n",
       "\n",
       "                                            all_text  \n",
       "0                 What have you learned this week?:   \n",
       "1  r/GenZ Is in need of more moderators! Read bel...  \n",
       "2  Who else remembers Net Neutrality and when thi...  \n",
       "3                                 This sub lately.:   \n",
       "4  You guys are absolutely pathetic: Where do I e...  "
      ]
     },
     "execution_count": 5,
     "metadata": {},
     "output_type": "execute_result"
    }
   ],
   "source": [
    "posts['all_text'] = posts['title'] + ': ' + posts['selftext'].fillna('')\n",
    "\n",
    "posts.head()"
   ]
  },
  {
   "cell_type": "code",
   "execution_count": 6,
   "id": "6e76e78c-7dc9-42b0-9822-a12776885fe6",
   "metadata": {
    "tags": []
   },
   "outputs": [
    {
     "data": {
      "text/plain": [
       "title          0\n",
       "selftext     543\n",
       "subreddit      0\n",
       "all_text       0\n",
       "dtype: int64"
      ]
     },
     "execution_count": 6,
     "metadata": {},
     "output_type": "execute_result"
    }
   ],
   "source": [
    "# New 'all_text' column should have no null values\n",
    "posts.isna().sum()"
   ]
  },
  {
   "cell_type": "markdown",
   "id": "8f89f48b-925d-4ce7-9715-a6ef587ab849",
   "metadata": {},
   "source": [
    "### Changing 'subreddit' to Numeric"
   ]
  },
  {
   "cell_type": "markdown",
   "id": "9b7509b1-ed72-4c6d-84fd-2d504e953e5e",
   "metadata": {},
   "source": [
    "Currently, the subreddit the post originated in is stored in the 'subreddit' column as a string. We need a numeric value to create our models."
   ]
  },
  {
   "cell_type": "code",
   "execution_count": 7,
   "id": "349e05ca-6cf1-4b49-a774-8d1c5da3f75a",
   "metadata": {
    "tags": []
   },
   "outputs": [
    {
     "data": {
      "text/plain": [
       "array(['r/GenZ', 'r/Millennials'], dtype=object)"
      ]
     },
     "execution_count": 7,
     "metadata": {},
     "output_type": "execute_result"
    }
   ],
   "source": [
    "posts['subreddit'].unique()"
   ]
  },
  {
   "cell_type": "markdown",
   "id": "8a064cf4-cbab-4fe5-9c36-6337c7f64ae5",
   "metadata": {},
   "source": [
    "We can create a new column that will be the target in our models based on whether the post is in r/GenZ"
   ]
  },
  {
   "cell_type": "code",
   "execution_count": 8,
   "id": "0b080a3f-c81a-40f4-9b55-02ddb056a93d",
   "metadata": {
    "tags": []
   },
   "outputs": [],
   "source": [
    "posts['is_gen_z'] = posts['subreddit'].map({'r/GenZ': 1, 'r/Millennials': 0})"
   ]
  },
  {
   "cell_type": "code",
   "execution_count": 9,
   "id": "aed87c50-8c2c-4477-95ad-fca9bdcb8f01",
   "metadata": {
    "tags": []
   },
   "outputs": [
    {
     "data": {
      "text/plain": [
       "array([1, 0])"
      ]
     },
     "execution_count": 9,
     "metadata": {},
     "output_type": "execute_result"
    }
   ],
   "source": [
    "posts['is_gen_z'].unique()"
   ]
  },
  {
   "cell_type": "markdown",
   "id": "b33f44a2-8ff4-417d-a57e-f99e27a4d492",
   "metadata": {
    "tags": []
   },
   "source": [
    "## Train/Test Split"
   ]
  },
  {
   "cell_type": "markdown",
   "id": "edd517c2-fa68-4410-ad56-e97f5b07f84b",
   "metadata": {},
   "source": [
    "To keep comparisons of our models consistent, we will split our train and test sets the same way we did in the count vectorizer notebooks."
   ]
  },
  {
   "cell_type": "code",
   "execution_count": 10,
   "id": "30653876-0411-4cae-897b-6aa857d0eb5f",
   "metadata": {
    "tags": []
   },
   "outputs": [],
   "source": [
    "X = posts['all_text']\n",
    "y = posts['is_gen_z']\n",
    "\n",
    "X_train, X_test, y_train, y_test = train_test_split(X, y, test_size = .2, random_state = 42)"
   ]
  },
  {
   "cell_type": "markdown",
   "id": "e6d3449a-72b8-4084-9f10-c21370fc37e8",
   "metadata": {},
   "source": [
    "### Baseline Accuracy\n",
    "This method of splitting into train and test sets should also give us the same baseline accuracy as our other notebook."
   ]
  },
  {
   "cell_type": "code",
   "execution_count": 11,
   "id": "97a3d719-9623-4f76-b3b5-9d1f936f3e53",
   "metadata": {
    "tags": []
   },
   "outputs": [
    {
     "data": {
      "text/plain": [
       "is_gen_z\n",
       "1    0.501948\n",
       "0    0.498052\n",
       "Name: proportion, dtype: float64"
      ]
     },
     "execution_count": 11,
     "metadata": {},
     "output_type": "execute_result"
    }
   ],
   "source": [
    "y_train.value_counts(normalize=True)"
   ]
  },
  {
   "cell_type": "markdown",
   "id": "a8b9857f-60e2-426d-a13b-0a9f4ce63273",
   "metadata": {},
   "source": [
    "## Logistic Regression"
   ]
  },
  {
   "cell_type": "code",
   "execution_count": 12,
   "id": "441517d9-bf32-4976-b634-caa6f8fe231d",
   "metadata": {
    "tags": []
   },
   "outputs": [],
   "source": [
    "pipe_tf = Pipeline([\n",
    "    ('tvec', TfidfVectorizer()),\n",
    "    ('lr', LogisticRegression())\n",
    "])"
   ]
  },
  {
   "cell_type": "markdown",
   "id": "b50fffa8-8791-446a-8c01-ba4758194203",
   "metadata": {},
   "source": [
    "To properly compare the difference between the count vectorizer and TFIDF vectorizer ws should test along the same parameters as we did for the last logistic regression."
   ]
  },
  {
   "cell_type": "code",
   "execution_count": 13,
   "id": "90a5eeab-b3aa-4ed0-98f5-4d50900a1043",
   "metadata": {
    "tags": []
   },
   "outputs": [],
   "source": [
    "pipe_params_tf = {\n",
    "    'tvec__max_features': [2000, 3000, 4000, None],\n",
    "    'tvec__min_df': [2, 4, .1],\n",
    "    'tvec__max_df': [1.0, 0.9, 0.8],\n",
    "    'tvec__ngram_range': [(1, 1), (1, 2), (1, 3)],\n",
    "    'tvec__strip_accents': ['ascii'],\n",
    "    'lr__penalty': ['l1', 'l2', 'elasticnet', 'none']\n",
    "}"
   ]
  },
  {
   "cell_type": "code",
   "execution_count": 14,
   "id": "b319331a-78e5-415e-939c-a0a4287d50fd",
   "metadata": {
    "tags": []
   },
   "outputs": [],
   "source": [
    "gs_tf = GridSearchCV(pipe_tf,\n",
    "                 param_grid=pipe_params_tf,\n",
    "                 n_jobs=-1)"
   ]
  },
  {
   "cell_type": "code",
   "execution_count": null,
   "id": "fc9cf93c-37cb-4643-bbe4-49460a524412",
   "metadata": {
    "scrolled": true,
    "tags": []
   },
   "outputs": [],
   "source": [
    "gs_tf.fit(X_train, y_train)"
   ]
  },
  {
   "cell_type": "code",
   "execution_count": 16,
   "id": "8b237d92-818e-4ce3-8c2b-830758fbd9d7",
   "metadata": {
    "tags": []
   },
   "outputs": [
    {
     "name": "stdout",
     "output_type": "stream",
     "text": [
      "0.72987012987013\n"
     ]
    },
    {
     "data": {
      "text/plain": [
       "{'lr__penalty': 'l2',\n",
       " 'tvec__max_df': 1.0,\n",
       " 'tvec__max_features': 2000,\n",
       " 'tvec__min_df': 2,\n",
       " 'tvec__ngram_range': (1, 1),\n",
       " 'tvec__strip_accents': 'ascii'}"
      ]
     },
     "execution_count": 16,
     "metadata": {},
     "output_type": "execute_result"
    }
   ],
   "source": [
    "print(gs_tf.best_score_)\n",
    "gs_tf.best_params_"
   ]
  },
  {
   "cell_type": "code",
   "execution_count": 20,
   "id": "5eadd6c6-b88a-4fc6-af6f-477f473bba2c",
   "metadata": {
    "tags": []
   },
   "outputs": [
    {
     "name": "stdout",
     "output_type": "stream",
     "text": [
      "Training score: 0.8675324675324675\n",
      "Testing score: 0.7668393782383419\n"
     ]
    }
   ],
   "source": [
    "print(f\"Training score: {gs_tf.score(X_train, y_train)}\")\n",
    "print(f\"Testing score: {gs_tf.score(X_test, y_test)}\")"
   ]
  },
  {
   "cell_type": "markdown",
   "id": "68d9904b-05bb-4a97-8287-2954fc9202b8",
   "metadata": {},
   "source": [
    "**Interpretation:** Using a TFIDF Vectorizer did not improve our testing score, but it did decrease the amount the logistic regression model was overfit, while scoring better than the Naive Bayes model using a count vectorizer. I would not say that the improvement in overfitting makes up for the drop in it's test score, keeping the CountVectorizer Logistic Regression our top model so far."
   ]
  },
  {
   "cell_type": "markdown",
   "id": "fb2c29c7-fa89-4e03-8b63-b40bade32638",
   "metadata": {},
   "source": [
    "### Confusion Matrix"
   ]
  },
  {
   "cell_type": "code",
   "execution_count": 21,
   "id": "19e12b05-9e35-40ee-8e26-2328a195df5d",
   "metadata": {
    "tags": []
   },
   "outputs": [
    {
     "data": {
      "image/png": "[encoded data removed]",
      "text/plain": [
       "<Figure size 640x480 with 2 Axes>"
      ]
     },
     "metadata": {},
     "output_type": "display_data"
    }
   ],
   "source": [
    "# Create Confusion Matrix\n",
    "preds_tf = gs_tf.predict(X_test)\n",
    "tn_tf, fp_tf, fn_tf, tp_tf = confusion_matrix(y_test, preds_tf).ravel()\n",
    "\n",
    "# Plot Confusion Matrix\n",
    "disp = ConfusionMatrixDisplay(confusion_matrix=confusion_matrix(y_test, preds_tf),\n",
    "                             display_labels=gs_tf.classes_)\n",
    "disp.plot();"
   ]
  },
  {
   "cell_type": "code",
   "execution_count": 22,
   "id": "ff521488-5703-41f2-9830-3d9669418ff2",
   "metadata": {
    "tags": []
   },
   "outputs": [
    {
     "data": {
      "image/png": "[encoded data removed]",
      "text/plain": [
       "<Figure size 640x480 with 1 Axes>"
      ]
     },
     "metadata": {},
     "output_type": "display_data"
    }
   ],
   "source": [
    "RocCurveDisplay.from_estimator(gs_tf, X_test, y_test);"
   ]
  },
  {
   "cell_type": "markdown",
   "id": "d5bba0c4-236c-4aba-99b3-a49466cb7e8a",
   "metadata": {},
   "source": [
    "**Interpretation:** This model had nearly equal false negatives and false positives. In practice, if we were using this model to determine who to serve ads to it may be better to advertise more rather than misclassifying Gen Z users as millennials and missing out on a potential sale. This would make it better to have false positives than false negatives, another reason to stick with the Count Vectorizer Models."
   ]
  },
  {
   "cell_type": "markdown",
   "id": "de5709ff-da8f-4267-8897-0fd71512af8b",
   "metadata": {},
   "source": [
    "## Multinomial Naive Bayes"
   ]
  },
  {
   "cell_type": "code",
   "execution_count": 24,
   "id": "be4efacc-5acd-4c55-9db3-71ce64f44ee1",
   "metadata": {
    "tags": []
   },
   "outputs": [],
   "source": [
    "pipe_tfnb = Pipeline([\n",
    "    ('tvec', TfidfVectorizer()),\n",
    "    ('nb', MultinomialNB())\n",
    "])"
   ]
  },
  {
   "cell_type": "markdown",
   "id": "62ce2d55-9c00-4779-a4a9-55354284aa57",
   "metadata": {},
   "source": [
    "We still want to keep these parameters similar to the Count Vectorizer models for consistent comparisons."
   ]
  },
  {
   "cell_type": "code",
   "execution_count": 25,
   "id": "1b280d46-a949-4d62-9b1b-45fa4fa3ee3c",
   "metadata": {
    "tags": []
   },
   "outputs": [],
   "source": [
    "pipe_params_tfnb = {\n",
    "    'tvec__max_features': [2000, 3000, 4000, None],\n",
    "    'tvec__min_df': [2, 4, .1],\n",
    "    'tvec__max_df': [1.0, 0.9, 0.8],\n",
    "    'tvec__ngram_range': [(1, 1), (1, 2), (1, 3)],\n",
    "    'tvec__strip_accents': ['ascii']\n",
    "}"
   ]
  },
  {
   "cell_type": "code",
   "execution_count": 26,
   "id": "2a3f33ba-97bd-428c-a938-83fda34d7f9c",
   "metadata": {
    "tags": []
   },
   "outputs": [],
   "source": [
    "gs_tfnb = GridSearchCV(pipe_tfnb,\n",
    "                 param_grid=pipe_params_tfnb,\n",
    "                 n_jobs=-1)"
   ]
  },
  {
   "cell_type": "code",
   "execution_count": 27,
   "id": "c9e9c68b-3fb3-422f-a815-b767c96e9bb3",
   "metadata": {
    "scrolled": true,
    "tags": []
   },
   "outputs": [
    {
     "data": {
      "text/html": [
       "<style>#sk-container-id-2 {color: black;}#sk-container-id-2 pre{padding: 0;}#sk-container-id-2 div.sk-toggleable {background-color: white;}#sk-container-id-2 label.sk-toggleable__label {cursor: pointer;display: block;width: 100%;margin-bottom: 0;padding: 0.3em;box-sizing: border-box;text-align: center;}#sk-container-id-2 label.sk-toggleable__label-arrow:before {content: \"▸\";float: left;margin-right: 0.25em;color: #696969;}#sk-container-id-2 label.sk-toggleable__label-arrow:hover:before {color: black;}#sk-container-id-2 div.sk-estimator:hover label.sk-toggleable__label-arrow:before {color: black;}#sk-container-id-2 div.sk-toggleable__content {max-height: 0;max-width: 0;overflow: hidden;text-align: left;background-color: #f0f8ff;}#sk-container-id-2 div.sk-toggleable__content pre {margin: 0.2em;color: black;border-radius: 0.25em;background-color: #f0f8ff;}#sk-container-id-2 input.sk-toggleable__control:checked~div.sk-toggleable__content {max-height: 200px;max-width: 100%;overflow: auto;}#sk-container-id-2 input.sk-toggleable__control:checked~label.sk-toggleable__label-arrow:before {content: \"▾\";}#sk-container-id-2 div.sk-estimator input.sk-toggleable__control:checked~label.sk-toggleable__label {background-color: #d4ebff;}#sk-container-id-2 div.sk-label input.sk-toggleable__control:checked~label.sk-toggleable__label {background-color: #d4ebff;}#sk-container-id-2 input.sk-hidden--visually {border: 0;clip: rect(1px 1px 1px 1px);clip: rect(1px, 1px, 1px, 1px);height: 1px;margin: -1px;overflow: hidden;padding: 0;position: absolute;width: 1px;}#sk-container-id-2 div.sk-estimator {font-family: monospace;background-color: #f0f8ff;border: 1px dotted black;border-radius: 0.25em;box-sizing: border-box;margin-bottom: 0.5em;}#sk-container-id-2 div.sk-estimator:hover {background-color: #d4ebff;}#sk-container-id-2 div.sk-parallel-item::after {content: \"\";width: 100%;border-bottom: 1px solid gray;flex-grow: 1;}#sk-container-id-2 div.sk-label:hover label.sk-toggleable__label {background-color: #d4ebff;}#sk-container-id-2 div.sk-serial::before {content: \"\";position: absolute;border-left: 1px solid gray;box-sizing: border-box;top: 0;bottom: 0;left: 50%;z-index: 0;}#sk-container-id-2 div.sk-serial {display: flex;flex-direction: column;align-items: center;background-color: white;padding-right: 0.2em;padding-left: 0.2em;position: relative;}#sk-container-id-2 div.sk-item {position: relative;z-index: 1;}#sk-container-id-2 div.sk-parallel {display: flex;align-items: stretch;justify-content: center;background-color: white;position: relative;}#sk-container-id-2 div.sk-item::before, #sk-container-id-2 div.sk-parallel-item::before {content: \"\";position: absolute;border-left: 1px solid gray;box-sizing: border-box;top: 0;bottom: 0;left: 50%;z-index: -1;}#sk-container-id-2 div.sk-parallel-item {display: flex;flex-direction: column;z-index: 1;position: relative;background-color: white;}#sk-container-id-2 div.sk-parallel-item:first-child::after {align-self: flex-end;width: 50%;}#sk-container-id-2 div.sk-parallel-item:last-child::after {align-self: flex-start;width: 50%;}#sk-container-id-2 div.sk-parallel-item:only-child::after {width: 0;}#sk-container-id-2 div.sk-dashed-wrapped {border: 1px dashed gray;margin: 0 0.4em 0.5em 0.4em;box-sizing: border-box;padding-bottom: 0.4em;background-color: white;}#sk-container-id-2 div.sk-label label {font-family: monospace;font-weight: bold;display: inline-block;line-height: 1.2em;}#sk-container-id-2 div.sk-label-container {text-align: center;}#sk-container-id-2 div.sk-container {/* jupyter's `normalize.less` sets `[hidden] { display: none; }` but bootstrap.min.css set `[hidden] { display: none !important; }` so we also need the `!important` here to be able to override the default hidden behavior on the sphinx rendered scikit-learn.org. See: https://github.com/scikit-learn/scikit-learn/issues/21755 */display: inline-block !important;position: relative;}#sk-container-id-2 div.sk-text-repr-fallback {display: none;}</style><div id=\"sk-container-id-2\" class=\"sk-top-container\"><div class=\"sk-text-repr-fallback\"><pre>GridSearchCV(estimator=Pipeline(steps=[(&#x27;tvec&#x27;, TfidfVectorizer()),\n",
       "                                       (&#x27;nb&#x27;, MultinomialNB())]),\n",
       "             n_jobs=-1,\n",
       "             param_grid={&#x27;tvec__max_df&#x27;: [1.0, 0.9, 0.8],\n",
       "                         &#x27;tvec__max_features&#x27;: [2000, 3000, 4000, None],\n",
       "                         &#x27;tvec__min_df&#x27;: [2, 4, 0.1],\n",
       "                         &#x27;tvec__ngram_range&#x27;: [(1, 1), (1, 2), (1, 3)],\n",
       "                         &#x27;tvec__strip_accents&#x27;: [&#x27;ascii&#x27;]})</pre><b>In a Jupyter environment, please rerun this cell to show the HTML representation or trust the notebook. <br />On GitHub, the HTML representation is unable to render, please try loading this page with nbviewer.org.</b></div><div class=\"sk-container\" hidden><div class=\"sk-item sk-dashed-wrapped\"><div class=\"sk-label-container\"><div class=\"sk-label sk-toggleable\"><input class=\"sk-toggleable__control sk-hidden--visually\" id=\"sk-estimator-id-5\" type=\"checkbox\" ><label for=\"sk-estimator-id-5\" class=\"sk-toggleable__label sk-toggleable__label-arrow\">GridSearchCV</label><div class=\"sk-toggleable__content\"><pre>GridSearchCV(estimator=Pipeline(steps=[(&#x27;tvec&#x27;, TfidfVectorizer()),\n",
       "                                       (&#x27;nb&#x27;, MultinomialNB())]),\n",
       "             n_jobs=-1,\n",
       "             param_grid={&#x27;tvec__max_df&#x27;: [1.0, 0.9, 0.8],\n",
       "                         &#x27;tvec__max_features&#x27;: [2000, 3000, 4000, None],\n",
       "                         &#x27;tvec__min_df&#x27;: [2, 4, 0.1],\n",
       "                         &#x27;tvec__ngram_range&#x27;: [(1, 1), (1, 2), (1, 3)],\n",
       "                         &#x27;tvec__strip_accents&#x27;: [&#x27;ascii&#x27;]})</pre></div></div></div><div class=\"sk-parallel\"><div class=\"sk-parallel-item\"><div class=\"sk-item\"><div class=\"sk-label-container\"><div class=\"sk-label sk-toggleable\"><input class=\"sk-toggleable__control sk-hidden--visually\" id=\"sk-estimator-id-6\" type=\"checkbox\" ><label for=\"sk-estimator-id-6\" class=\"sk-toggleable__label sk-toggleable__label-arrow\">estimator: Pipeline</label><div class=\"sk-toggleable__content\"><pre>Pipeline(steps=[(&#x27;tvec&#x27;, TfidfVectorizer()), (&#x27;nb&#x27;, MultinomialNB())])</pre></div></div></div><div class=\"sk-serial\"><div class=\"sk-item\"><div class=\"sk-serial\"><div class=\"sk-item\"><div class=\"sk-estimator sk-toggleable\"><input class=\"sk-toggleable__control sk-hidden--visually\" id=\"sk-estimator-id-7\" type=\"checkbox\" ><label for=\"sk-estimator-id-7\" class=\"sk-toggleable__label sk-toggleable__label-arrow\">TfidfVectorizer</label><div class=\"sk-toggleable__content\"><pre>TfidfVectorizer()</pre></div></div></div><div class=\"sk-item\"><div class=\"sk-estimator sk-toggleable\"><input class=\"sk-toggleable__control sk-hidden--visually\" id=\"sk-estimator-id-8\" type=\"checkbox\" ><label for=\"sk-estimator-id-8\" class=\"sk-toggleable__label sk-toggleable__label-arrow\">MultinomialNB</label><div class=\"sk-toggleable__content\"><pre>MultinomialNB()</pre></div></div></div></div></div></div></div></div></div></div></div></div>"
      ],
      "text/plain": [
       "GridSearchCV(estimator=Pipeline(steps=[('tvec', TfidfVectorizer()),\n",
       "                                       ('nb', MultinomialNB())]),\n",
       "             n_jobs=-1,\n",
       "             param_grid={'tvec__max_df': [1.0, 0.9, 0.8],\n",
       "                         'tvec__max_features': [2000, 3000, 4000, None],\n",
       "                         'tvec__min_df': [2, 4, 0.1],\n",
       "                         'tvec__ngram_range': [(1, 1), (1, 2), (1, 3)],\n",
       "                         'tvec__strip_accents': ['ascii']})"
      ]
     },
     "execution_count": 27,
     "metadata": {},
     "output_type": "execute_result"
    }
   ],
   "source": [
    "gs_tfnb.fit(X_train, y_train)"
   ]
  },
  {
   "cell_type": "code",
   "execution_count": 28,
   "id": "5544e4bb-5879-42ac-8497-7e3c842f618f",
   "metadata": {
    "tags": []
   },
   "outputs": [
    {
     "name": "stdout",
     "output_type": "stream",
     "text": [
      "0.7025974025974027\n"
     ]
    },
    {
     "data": {
      "text/plain": [
       "{'tvec__max_df': 1.0,\n",
       " 'tvec__max_features': 2000,\n",
       " 'tvec__min_df': 4,\n",
       " 'tvec__ngram_range': (1, 1),\n",
       " 'tvec__strip_accents': 'ascii'}"
      ]
     },
     "execution_count": 28,
     "metadata": {},
     "output_type": "execute_result"
    }
   ],
   "source": [
    "print(gs_tfnb.best_score_)\n",
    "gs_tfnb.best_params_"
   ]
  },
  {
   "cell_type": "code",
   "execution_count": 29,
   "id": "0869cfab-f329-4529-a958-94648f1a09de",
   "metadata": {
    "tags": []
   },
   "outputs": [
    {
     "name": "stdout",
     "output_type": "stream",
     "text": [
      "Training score: 0.8512987012987013\n",
      "Testing score: 0.7564766839378239\n"
     ]
    }
   ],
   "source": [
    "print(f\"Training score: {gs_tfnb.score(X_train, y_train)}\")\n",
    "print(f\"Testing score: {gs_tfnb.score(X_test, y_test)}\")"
   ]
  },
  {
   "cell_type": "markdown",
   "id": "d731b01b-03ef-44e0-b76c-23f16033a46d",
   "metadata": {},
   "source": [
    "**Interpretation:** These results are very similar to our Logistic regression above, but scored slightly lower. This may be due to the fact that TFIDF Vectorizer and Naive Bayes are both techniques used to simplify models, so by combining them it may not be finding anything new about our features. Although, our TFIDF model for Naive Bayes did outperform the Count Vectorizer version."
   ]
  },
  {
   "cell_type": "markdown",
   "id": "7d037c31-a0bb-4150-a671-591e7bb51a2d",
   "metadata": {},
   "source": [
    "### Confusion Matrix"
   ]
  },
  {
   "cell_type": "code",
   "execution_count": 30,
   "id": "b7e29b0d-057e-4128-8c62-716236c976d9",
   "metadata": {
    "tags": []
   },
   "outputs": [
    {
     "data": {
      "image/png": "[encoded data removed]",
      "text/plain": [
       "<Figure size 640x480 with 2 Axes>"
      ]
     },
     "metadata": {},
     "output_type": "display_data"
    }
   ],
   "source": [
    "# Create Confusion Matrix\n",
    "preds_tfnb = gs_tfnb.predict(X_test)\n",
    "tn_tfnb, fp_tfnb, fn_tfnb, tp_tfnb = confusion_matrix(y_test, preds_tfnb).ravel()\n",
    "\n",
    "# Plot Confusion Matrix\n",
    "disp_tfnb = ConfusionMatrixDisplay(confusion_matrix=confusion_matrix(y_test, preds_tfnb),\n",
    "                             display_labels=gs_tfnb.classes_)\n",
    "disp_tfnb.plot();"
   ]
  },
  {
   "cell_type": "code",
   "execution_count": 31,
   "id": "2937c43f-3891-4d85-88a4-65c79896d4a7",
   "metadata": {
    "tags": []
   },
   "outputs": [
    {
     "data": {
      "image/png": "[encoded data removed]",
      "text/plain": [
       "<Figure size 640x480 with 1 Axes>"
      ]
     },
     "metadata": {},
     "output_type": "display_data"
    }
   ],
   "source": [
    "# Create Roc Curve\n",
    "RocCurveDisplay.from_estimator(gs_tfnb, X_test, y_test);"
   ]
  },
  {
   "cell_type": "markdown",
   "id": "ea0beade-4764-473f-acb5-ca5535bb85a2",
   "metadata": {},
   "source": [
    "**Interpretation:** This model tends towards many more false negatives than false positives. This means that if we were to use it to find Gen Z people to advertise to, it would incorrectly classify them as Millennials often, causing us to miss out on advertising opportunities. For practical purposes, it is much better for our model to classify a Millennial as Gen Z than the other way around."
   ]
  },
  {
   "cell_type": "markdown",
   "id": "c8915fe6-4392-448e-90e8-458b00553684",
   "metadata": {},
   "source": [
    "# Executive Analysis"
   ]
  },
  {
   "cell_type": "markdown",
   "id": "f6ed7e00-0f5d-4790-8b7c-533ba1c0fcdf",
   "metadata": {},
   "source": [
    "Based on the analysis and models created in this notebook and the Count Vectorizer notebook, I am confident that the Logistic Regression model using Count Vectorizer is the top performing model for our purposes. There are several reasons for that, the first simply being scoring. This model out performed all others with a test score of .79. Even though it appeared to be overfit, the model continued to score higher than any other combination of features. </br></br> The second reason is that it's errors are more practical than the other models. It tends to err on the side of classifying as Gen Z. This at least gives us opportunites to advertise, whereas an incorrect classification as Millennial does not. It is better to have a false positive because if the classification is incorrect, at least we were able to get an ad in front of somewhere, whereas with a false negative there is no attempt</br></br>Third, it is the most interpretable. If we need to justify our findings to another business team, the logistic regression is more straightforward than the other models. It is easier to see how the data is set up than with Naive Bayes or a TFIDF Vectorization, which will both make simplifications behind the scenes to try and improve performance.</br></br>After testing these models, I am recommending that the advertising team move forward with their plan of classifying users by generation based on the text they post, based on this Count Vectorizer Logistic Regression.\n"
   ]
  },
  {
   "cell_type": "code",
   "execution_count": null,
   "id": "ef5873a8-0673-4586-b19d-e14da3bbd053",
   "metadata": {},
   "outputs": [],
   "source": []
  }
 ],
 "metadata": {
  "kernelspec": {
   "display_name": "Python 3 (ipykernel)",
   "language": "python",
   "name": "python3"
  },
  "language_info": {
   "codemirror_mode": {
    "name": "ipython",
    "version": 3
   },
   "file_extension": ".py",
   "mimetype": "text/x-python",
   "name": "python",
   "nbconvert_exporter": "python",
   "pygments_lexer": "ipython3",
   "version": "3.9.18"
  }
 },
 "nbformat": 4,
 "nbformat_minor": 5
}
