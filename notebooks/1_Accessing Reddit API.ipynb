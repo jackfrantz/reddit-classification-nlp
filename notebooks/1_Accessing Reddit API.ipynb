{
 "cells": [
  {
   "cell_type": "markdown",
   "id": "1f753b0c-96c4-4353-bb04-5cd1426ddb40",
   "metadata": {},
   "source": [
    "# Compiling Reddit API Data"
   ]
  },
  {
   "cell_type": "code",
   "execution_count": 1,
   "id": "c9bd19ea-b46d-4a8f-92e3-714ec7d5429f",
   "metadata": {
    "tags": []
   },
   "outputs": [],
   "source": [
    "# Imports\n",
    "import pandas as pd\n",
    "import requests\n",
    "from bs4 import BeautifulSoup\n",
    "import json\n"
   ]
  },
  {
   "cell_type": "markdown",
   "id": "f2fc0d17-f031-4896-aaf9-47168db5a48e",
   "metadata": {},
   "source": [
    "## Getting Access to Reddit API"
   ]
  },
  {
   "cell_type": "markdown",
   "id": "25308b08-3dea-4f70-a325-f8f727a5d2c7",
   "metadata": {},
   "source": [
    "We will be collecting all of our data from Reddit API. Prior to this step, an application must be created under your account at [Reddit.com](https://www.reddit.com)."
   ]
  },
  {
   "cell_type": "code",
   "execution_count": 182,
   "id": "69fb4bb0-f4b4-4d4f-bf81-e31d10eaa821",
   "metadata": {
    "tags": []
   },
   "outputs": [],
   "source": [
    "client_id = 'wIQlH8DmARgNasJbnwwkIA'  # Provided under \"personal use script\"\n",
    "client_secret = 'HTY0NzUY49CU8GOBdCT4Ln57aNDiMQ' # Provided as \"secret\"\n",
    "user_agent = 'GA Project' # Name of your application\n",
    "username = 'username123' # Your reddit username (placeholder for privacy)\n",
    "password = 'password123' # Your reddit password (placeholder for privacy))"
   ]
  },
  {
   "cell_type": "code",
   "execution_count": 183,
   "id": "cdcfb9ea-e78e-463b-b864-4295fa6c9525",
   "metadata": {
    "tags": []
   },
   "outputs": [],
   "source": [
    "auth = requests.auth.HTTPBasicAuth(client_id, client_secret)\n",
    "\n",
    "data = {\n",
    "    'grant_type': 'password',\n",
    "    'username': username,\n",
    "    'password': password\n",
    "}\n",
    "\n",
    "headers = {'User-Agent': 'namehere/0.0.1'}"
   ]
  },
  {
   "cell_type": "markdown",
   "id": "f9f3313a-d21c-4394-ab66-7d9623d733fd",
   "metadata": {},
   "source": [
    "We then need to create a request for an access token."
   ]
  },
  {
   "cell_type": "code",
   "execution_count": null,
   "id": "29681380-9b28-46bc-8e5d-f2906b3ce341",
   "metadata": {},
   "outputs": [],
   "source": [
    "res = requests.post(\n",
    "    'https://www.reddit.com/api/v1/access_token',\n",
    "    auth=auth,\n",
    "    data=data,\n",
    "    headers=headers)"
   ]
  },
  {
   "cell_type": "markdown",
   "id": "aec44907-27fe-439e-8116-3f55b921e03e",
   "metadata": {},
   "source": [
    "If our code is working we should get a response code of 200"
   ]
  },
  {
   "cell_type": "code",
   "execution_count": null,
   "id": "293530e3-9868-4126-bc50-c0ad2d945fd6",
   "metadata": {},
   "outputs": [],
   "source": [
    "print(res)"
   ]
  },
  {
   "cell_type": "code",
   "execution_count": 185,
   "id": "b9f41610-01bc-422a-9d8c-18a1b326d17f",
   "metadata": {
    "tags": []
   },
   "outputs": [],
   "source": [
    "#retrieve access token\n",
    "token = res.json()['access_token']"
   ]
  },
  {
   "cell_type": "code",
   "execution_count": 186,
   "id": "289f8bb1-31bd-4a5f-8f04-b76092d69f4e",
   "metadata": {
    "tags": []
   },
   "outputs": [
    {
     "data": {
      "text/plain": [
       "True"
      ]
     },
     "execution_count": 186,
     "metadata": {},
     "output_type": "execute_result"
    }
   ],
   "source": [
    "headers['Authorization'] = f'bearer {token}'\n",
    "\n",
    "requests.get('https://oauth.reddit.com/api/v1/me', headers=headers).status_code == 200"
   ]
  },
  {
   "cell_type": "markdown",
   "id": "2ae04d17-bdf2-4da2-999f-4c4801362e68",
   "metadata": {},
   "source": [
    "## r/GenZ Data"
   ]
  },
  {
   "cell_type": "markdown",
   "id": "a8688706-c84d-4e65-a9a8-9549d1b54eaa",
   "metadata": {},
   "source": [
    "For the first half of our data we will be accessing [r/Genz](https://www.reddit.com/r/GenZ/)."
   ]
  },
  {
   "cell_type": "code",
   "execution_count": 187,
   "id": "69a37a2e-796a-4ea7-8b7a-38486504a3c5",
   "metadata": {
    "tags": []
   },
   "outputs": [],
   "source": [
    "base_url = 'https://oauth.reddit.com/r/'\n",
    "subreddit = 'genz'"
   ]
  },
  {
   "cell_type": "markdown",
   "id": "7d05dac4-b334-4b53-b1d4-65879c921ebd",
   "metadata": {},
   "source": [
    "We can only access 100 at a time."
   ]
  },
  {
   "cell_type": "code",
   "execution_count": 188,
   "id": "88268396-b4b3-4c11-914f-90a92e6c8d91",
   "metadata": {
    "tags": []
   },
   "outputs": [],
   "source": [
    "params = {\n",
    "    'limit': 100,\n",
    "}"
   ]
  },
  {
   "cell_type": "markdown",
   "id": "ea80d53f-d2a1-47fb-92c3-8637547fdc50",
   "metadata": {},
   "source": [
    "We need a new request, this time it will be for the data of the posts made in the r/GenZ subreddit."
   ]
  },
  {
   "cell_type": "code",
   "execution_count": 189,
   "id": "b949cfbb-e907-4c7e-a165-d8accb9186d5",
   "metadata": {
    "tags": []
   },
   "outputs": [],
   "source": [
    "res = requests.get(base_url+subreddit,\n",
    "                   headers=headers,\n",
    "                  params=params)"
   ]
  },
  {
   "cell_type": "code",
   "execution_count": null,
   "id": "89719b93-b2d1-4a8f-80dc-bb3cccd2fc00",
   "metadata": {},
   "outputs": [],
   "source": [
    "# Check that we can access the data we need for our loop\n",
    "print(res.json()['data']['after'])\n",
    "print('='*50)\n",
    "print(res.json()['data']['children'][0]['data']['title'])\n",
    "print('='*50)\n",
    "print(res.json()['data']['children'][0]['data']['selftext'])\n",
    "print('='*50)\n",
    "print(res.json()['data']['children'][0]['data']['subreddit_name_prefixed'])"
   ]
  },
  {
   "cell_type": "code",
   "execution_count": 252,
   "id": "b3289ca1-788b-4bfe-ba1e-9a281be4d2ae",
   "metadata": {
    "tags": []
   },
   "outputs": [],
   "source": [
    "params = {\n",
    "    'limit': 100\n",
    "}\n",
    "\n",
    "genz_posts = [] # list where we will add a dictionaries for each post\n",
    "\n",
    "while len(genz_posts) <= 950: # Can only access the last 1000 posts, don't get 100 more posts if len is over 900 because it will end in duplicates\n",
    "    res = requests.get(base_url+subreddit,\n",
    "                   headers=headers,\n",
    "                  params=params)\n",
    "    \n",
    "    for i in range(len(res.json()['data']['children'])):\n",
    "        # storing data\n",
    "        title = res.json()['data']['children'][i]['data']['title']\n",
    "        selftext = res.json()['data']['children'][i]['data']['selftext']\n",
    "        subreddit_name = res.json()['data']['children'][i]['data']['subreddit_name_prefixed']\n",
    "\n",
    "        # add to dict\n",
    "        genz_post_dict = {# create dictionary for each item, defined by the variables above\n",
    "        'title': title,\n",
    "        'selftext': selftext,\n",
    "        'subreddit': subreddit_name\n",
    "        }\n",
    "\n",
    "        # add dict to posts list\n",
    "        genz_posts.append(genz_post_dict)\n",
    "    print(len(genz_posts))\n",
    "    params['after'] = res.json()['data']['after'] # will add the 'after' key from the last data to params"
   ]
  },
  {
   "cell_type": "markdown",
   "id": "c0d8bf7b-6ac9-4dcc-aebf-277f58701b4a",
   "metadata": {},
   "source": [
    "We can turn this into a Data Frame so it is easier to work with."
   ]
  },
  {
   "cell_type": "code",
   "execution_count": 254,
   "id": "609ff895-9b94-4efa-a4c8-8c8dd0927cfb",
   "metadata": {
    "tags": []
   },
   "outputs": [],
   "source": [
    "genz_posts_df = pd.DataFrame(genz_posts)"
   ]
  },
  {
   "cell_type": "code",
   "execution_count": 255,
   "id": "3506a583-df9d-43ce-8bd2-c726735d7795",
   "metadata": {
    "tags": []
   },
   "outputs": [
    {
     "data": {
      "text/plain": [
       "956"
      ]
     },
     "execution_count": 255,
     "metadata": {},
     "output_type": "execute_result"
    }
   ],
   "source": [
    "len(genz_posts_df['title'].unique())"
   ]
  },
  {
   "cell_type": "code",
   "execution_count": 300,
   "id": "b3cf2602-080f-4b7b-a105-aa76dadf5a0b",
   "metadata": {
    "tags": []
   },
   "outputs": [
    {
     "data": {
      "text/html": [
       "<div>\n",
       "<style scoped>\n",
       "    .dataframe tbody tr th:only-of-type {\n",
       "        vertical-align: middle;\n",
       "    }\n",
       "\n",
       "    .dataframe tbody tr th {\n",
       "        vertical-align: top;\n",
       "    }\n",
       "\n",
       "    .dataframe thead th {\n",
       "        text-align: right;\n",
       "    }\n",
       "</style>\n",
       "<table border=\"1\" class=\"dataframe\">\n",
       "  <thead>\n",
       "    <tr style=\"text-align: right;\">\n",
       "      <th></th>\n",
       "      <th>title</th>\n",
       "      <th>selftext</th>\n",
       "      <th>subreddit</th>\n",
       "    </tr>\n",
       "  </thead>\n",
       "  <tbody>\n",
       "    <tr>\n",
       "      <th>0</th>\n",
       "      <td>What have you learned this week?</td>\n",
       "      <td></td>\n",
       "      <td>r/GenZ</td>\n",
       "    </tr>\n",
       "    <tr>\n",
       "      <th>1</th>\n",
       "      <td>r/GenZ Is in need of more moderators! Read below:</td>\n",
       "      <td>In the past few months, we've been getting inc...</td>\n",
       "      <td>r/GenZ</td>\n",
       "    </tr>\n",
       "    <tr>\n",
       "      <th>2</th>\n",
       "      <td>Who else remembers Net Neutrality and when thi...</td>\n",
       "      <td></td>\n",
       "      <td>r/GenZ</td>\n",
       "    </tr>\n",
       "    <tr>\n",
       "      <th>3</th>\n",
       "      <td>This sub lately.</td>\n",
       "      <td></td>\n",
       "      <td>r/GenZ</td>\n",
       "    </tr>\n",
       "    <tr>\n",
       "      <th>4</th>\n",
       "      <td>You guys are absolutely pathetic</td>\n",
       "      <td>Where do I even start? It's just constant comp...</td>\n",
       "      <td>r/GenZ</td>\n",
       "    </tr>\n",
       "  </tbody>\n",
       "</table>\n",
       "</div>"
      ],
      "text/plain": [
       "                                               title  \\\n",
       "0                   What have you learned this week?   \n",
       "1  r/GenZ Is in need of more moderators! Read below:   \n",
       "2  Who else remembers Net Neutrality and when thi...   \n",
       "3                                   This sub lately.   \n",
       "4                   You guys are absolutely pathetic   \n",
       "\n",
       "                                            selftext subreddit  \n",
       "0                                                       r/GenZ  \n",
       "1  In the past few months, we've been getting inc...    r/GenZ  \n",
       "2                                                       r/GenZ  \n",
       "3                                                       r/GenZ  \n",
       "4  Where do I even start? It's just constant comp...    r/GenZ  "
      ]
     },
     "execution_count": 300,
     "metadata": {},
     "output_type": "execute_result"
    }
   ],
   "source": [
    "genz_posts_df.head()"
   ]
  },
  {
   "cell_type": "markdown",
   "id": "f2a1f830-ac2b-4c63-aad6-b8b8e4627ca3",
   "metadata": {
    "tags": []
   },
   "source": [
    "## r/Millennials Data"
   ]
  },
  {
   "cell_type": "markdown",
   "id": "bb22ff6d-f283-4a40-a86a-cac586606f5f",
   "metadata": {},
   "source": [
    "The second half of our data comes from [r/Millennials](https://www.reddit.com/r/Millennials/). We'll follow the same steps as above to retrieve this data."
   ]
  },
  {
   "cell_type": "code",
   "execution_count": 285,
   "id": "727b1cf4-edf0-485e-b2ab-67e9e3bca50e",
   "metadata": {
    "tags": []
   },
   "outputs": [],
   "source": [
    "base_url = 'https://oauth.reddit.com/r/'\n",
    "subreddit = 'millennials'"
   ]
  },
  {
   "cell_type": "code",
   "execution_count": 286,
   "id": "50f958ae-024a-4cb4-8c4a-fd92d6929eeb",
   "metadata": {
    "tags": []
   },
   "outputs": [],
   "source": [
    "params = {\n",
    "    'limit': 100,\n",
    "}"
   ]
  },
  {
   "cell_type": "code",
   "execution_count": 287,
   "id": "daec049c-f600-4cd4-8274-a72b3c977d3b",
   "metadata": {
    "tags": []
   },
   "outputs": [],
   "source": [
    "res = requests.get(base_url+subreddit,\n",
    "                   headers=headers,\n",
    "                  params=params)"
   ]
  },
  {
   "cell_type": "code",
   "execution_count": 288,
   "id": "7469f116-9797-47ab-b17d-0bc933fdbacc",
   "metadata": {
    "tags": []
   },
   "outputs": [
    {
     "name": "stdout",
     "output_type": "stream",
     "text": [
      "t3_18xqlqu\n",
      "==================================================\n",
      "r/Millennials Weekly Rant/Politics Thread\n",
      "==================================================\n",
      "Please use this weekly thread to vent and let loose about personal rants. Got something upsetting or overwhelming that you just need to vent or shout out to the world? You can post those thoughts here. There are many real problems that plague the Millennial generation and we want to allow a space for it here while still keeping the angry and divisive posts to a more concentrated thread rather than taking up the entire front page.\n",
      "\n",
      "Also while we generally remove political posts, we do allow general discussions of politics here so long as you remain civil and don't attack someone just for having a different opinion. The moment we see things start to derail, we will step in.\n",
      "==================================================\n",
      "r/Millennials\n"
     ]
    }
   ],
   "source": [
    "# Check that we can access the data we need for our loop\n",
    "print(res.json()['data']['after'])\n",
    "print('='*50)\n",
    "print(res.json()['data']['children'][0]['data']['title'])\n",
    "print('='*50)\n",
    "print(res.json()['data']['children'][0]['data']['selftext'])\n",
    "print('='*50)\n",
    "print(res.json()['data']['children'][0]['data']['subreddit_name_prefixed'])"
   ]
  },
  {
   "cell_type": "code",
   "execution_count": 289,
   "id": "b38c1a48-3fcf-461d-88f7-b27dce3580c5",
   "metadata": {
    "tags": []
   },
   "outputs": [
    {
     "name": "stdout",
     "output_type": "stream",
     "text": [
      "102\n",
      "202\n",
      "302\n",
      "402\n",
      "502\n",
      "602\n",
      "702\n",
      "802\n",
      "902\n",
      "961\n"
     ]
    }
   ],
   "source": [
    "params = {\n",
    "    'limit': 100\n",
    "}\n",
    "\n",
    "mill_posts = [] # list where we will add a dictionaries for each post\n",
    "\n",
    "while len(mill_posts) <= 950: # Can only access the last 1000 posts, don't get 100 more posts if len is over 900 because it will end in duplicates\n",
    "    res = requests.get(base_url+subreddit,\n",
    "                   headers=headers,\n",
    "                  params=params)\n",
    "    \n",
    "    for i in range(len(res.json()['data']['children'])):\n",
    "        # storing data\n",
    "        title = res.json()['data']['children'][i]['data']['title']\n",
    "        selftext = res.json()['data']['children'][i]['data']['selftext']\n",
    "        subreddit_name = res.json()['data']['children'][i]['data']['subreddit_name_prefixed']\n",
    "\n",
    "        # add to dict\n",
    "        mill_post_dict = {# create dictionary for each item, defined by the variables above\n",
    "        'title': title,\n",
    "        'selftext': selftext,\n",
    "        'subreddit': subreddit_name\n",
    "        }\n",
    "\n",
    "        # add dict to posts list\n",
    "        mill_posts.append(mill_post_dict)\n",
    "    print(len(mill_posts))\n",
    "    params['after'] = res.json()['data']['after'] # will add the 'after' key from the last data to params"
   ]
  },
  {
   "cell_type": "markdown",
   "id": "d72e3f05-ad83-492c-89c5-c41adad79438",
   "metadata": {},
   "source": [
    "Now that we have the data from r/Millennials, we need to turn it into a dataframe so we can combine it with r/GenZ and store it."
   ]
  },
  {
   "cell_type": "code",
   "execution_count": 290,
   "id": "dc436899-0422-446d-ac3d-db2feb2b72cd",
   "metadata": {
    "tags": []
   },
   "outputs": [],
   "source": [
    "mill_posts_df = pd.DataFrame(mill_posts)"
   ]
  },
  {
   "cell_type": "code",
   "execution_count": 291,
   "id": "9436f8bd-891b-48d4-a0c8-bf1b32362ca7",
   "metadata": {
    "tags": []
   },
   "outputs": [
    {
     "data": {
      "text/plain": [
       "960"
      ]
     },
     "execution_count": 291,
     "metadata": {},
     "output_type": "execute_result"
    }
   ],
   "source": [
    "len(mill_posts_df['title'].unique())"
   ]
  },
  {
   "cell_type": "code",
   "execution_count": 293,
   "id": "f7f85ac6-120b-4ec5-b395-6bb50a6abb65",
   "metadata": {
    "tags": []
   },
   "outputs": [
    {
     "data": {
      "text/html": [
       "<div>\n",
       "<style scoped>\n",
       "    .dataframe tbody tr th:only-of-type {\n",
       "        vertical-align: middle;\n",
       "    }\n",
       "\n",
       "    .dataframe tbody tr th {\n",
       "        vertical-align: top;\n",
       "    }\n",
       "\n",
       "    .dataframe thead th {\n",
       "        text-align: right;\n",
       "    }\n",
       "</style>\n",
       "<table border=\"1\" class=\"dataframe\">\n",
       "  <thead>\n",
       "    <tr style=\"text-align: right;\">\n",
       "      <th></th>\n",
       "      <th>title</th>\n",
       "      <th>selftext</th>\n",
       "      <th>subreddit</th>\n",
       "    </tr>\n",
       "  </thead>\n",
       "  <tbody>\n",
       "    <tr>\n",
       "      <th>0</th>\n",
       "      <td>r/Millennials Weekly Rant/Politics Thread</td>\n",
       "      <td>Please use this weekly thread to vent and let ...</td>\n",
       "      <td>r/Millennials</td>\n",
       "    </tr>\n",
       "    <tr>\n",
       "      <th>1</th>\n",
       "      <td>For those who have free time, We are currently...</td>\n",
       "      <td></td>\n",
       "      <td>r/Millennials</td>\n",
       "    </tr>\n",
       "    <tr>\n",
       "      <th>2</th>\n",
       "      <td>Amy Lee of the band Evanescence going to schoo...</td>\n",
       "      <td></td>\n",
       "      <td>r/Millennials</td>\n",
       "    </tr>\n",
       "    <tr>\n",
       "      <th>3</th>\n",
       "      <td>I can't stress this enough...talk to your pare...</td>\n",
       "      <td>[https://www.wbur.org/hereandnow/2024/01/04/am...</td>\n",
       "      <td>r/Millennials</td>\n",
       "    </tr>\n",
       "    <tr>\n",
       "      <th>4</th>\n",
       "      <td>New Middle Age For Males in US is 36 Years Old...</td>\n",
       "      <td>Something on the Internet made me look this up...</td>\n",
       "      <td>r/Millennials</td>\n",
       "    </tr>\n",
       "  </tbody>\n",
       "</table>\n",
       "</div>"
      ],
      "text/plain": [
       "                                               title  \\\n",
       "0          r/Millennials Weekly Rant/Politics Thread   \n",
       "1  For those who have free time, We are currently...   \n",
       "2  Amy Lee of the band Evanescence going to schoo...   \n",
       "3  I can't stress this enough...talk to your pare...   \n",
       "4  New Middle Age For Males in US is 36 Years Old...   \n",
       "\n",
       "                                            selftext      subreddit  \n",
       "0  Please use this weekly thread to vent and let ...  r/Millennials  \n",
       "1                                                     r/Millennials  \n",
       "2                                                     r/Millennials  \n",
       "3  [https://www.wbur.org/hereandnow/2024/01/04/am...  r/Millennials  \n",
       "4  Something on the Internet made me look this up...  r/Millennials  "
      ]
     },
     "execution_count": 293,
     "metadata": {},
     "output_type": "execute_result"
    }
   ],
   "source": [
    "mill_posts_df.head()"
   ]
  },
  {
   "cell_type": "markdown",
   "id": "c77919a9-fff7-417c-8bee-b45912d1955a",
   "metadata": {},
   "source": [
    "## Combining into one DataFrame and Exporting"
   ]
  },
  {
   "cell_type": "markdown",
   "id": "2e0418b0-1f70-475e-98b7-bb44ef6e4855",
   "metadata": {},
   "source": [
    "### Combine into one DataFrame"
   ]
  },
  {
   "cell_type": "code",
   "execution_count": 294,
   "id": "4641b8ca-ce2f-4927-8049-12214d33aa91",
   "metadata": {
    "tags": []
   },
   "outputs": [],
   "source": [
    "all_posts = pd.concat([genz_posts_df, mill_posts_df], axis=0)"
   ]
  },
  {
   "cell_type": "code",
   "execution_count": 295,
   "id": "f7db5d8c-2818-44d8-ba9d-b335e2b225f2",
   "metadata": {
    "tags": []
   },
   "outputs": [
    {
     "data": {
      "text/html": [
       "<div>\n",
       "<style scoped>\n",
       "    .dataframe tbody tr th:only-of-type {\n",
       "        vertical-align: middle;\n",
       "    }\n",
       "\n",
       "    .dataframe tbody tr th {\n",
       "        vertical-align: top;\n",
       "    }\n",
       "\n",
       "    .dataframe thead th {\n",
       "        text-align: right;\n",
       "    }\n",
       "</style>\n",
       "<table border=\"1\" class=\"dataframe\">\n",
       "  <thead>\n",
       "    <tr style=\"text-align: right;\">\n",
       "      <th></th>\n",
       "      <th>title</th>\n",
       "      <th>selftext</th>\n",
       "      <th>subreddit</th>\n",
       "    </tr>\n",
       "  </thead>\n",
       "  <tbody>\n",
       "    <tr>\n",
       "      <th>0</th>\n",
       "      <td>What have you learned this week?</td>\n",
       "      <td></td>\n",
       "      <td>r/GenZ</td>\n",
       "    </tr>\n",
       "    <tr>\n",
       "      <th>1</th>\n",
       "      <td>r/GenZ Is in need of more moderators! Read below:</td>\n",
       "      <td>In the past few months, we've been getting inc...</td>\n",
       "      <td>r/GenZ</td>\n",
       "    </tr>\n",
       "    <tr>\n",
       "      <th>2</th>\n",
       "      <td>Who else remembers Net Neutrality and when thi...</td>\n",
       "      <td></td>\n",
       "      <td>r/GenZ</td>\n",
       "    </tr>\n",
       "    <tr>\n",
       "      <th>3</th>\n",
       "      <td>This sub lately.</td>\n",
       "      <td></td>\n",
       "      <td>r/GenZ</td>\n",
       "    </tr>\n",
       "    <tr>\n",
       "      <th>4</th>\n",
       "      <td>You guys are absolutely pathetic</td>\n",
       "      <td>Where do I even start? It's just constant comp...</td>\n",
       "      <td>r/GenZ</td>\n",
       "    </tr>\n",
       "  </tbody>\n",
       "</table>\n",
       "</div>"
      ],
      "text/plain": [
       "                                               title  \\\n",
       "0                   What have you learned this week?   \n",
       "1  r/GenZ Is in need of more moderators! Read below:   \n",
       "2  Who else remembers Net Neutrality and when thi...   \n",
       "3                                   This sub lately.   \n",
       "4                   You guys are absolutely pathetic   \n",
       "\n",
       "                                            selftext subreddit  \n",
       "0                                                       r/GenZ  \n",
       "1  In the past few months, we've been getting inc...    r/GenZ  \n",
       "2                                                       r/GenZ  \n",
       "3                                                       r/GenZ  \n",
       "4  Where do I even start? It's just constant comp...    r/GenZ  "
      ]
     },
     "execution_count": 295,
     "metadata": {},
     "output_type": "execute_result"
    }
   ],
   "source": [
    "# Should have all gen z at the top\n",
    "all_posts.head()"
   ]
  },
  {
   "cell_type": "code",
   "execution_count": null,
   "id": "9194f13e-24c4-481d-891f-3ffb308d7234",
   "metadata": {
    "tags": []
   },
   "outputs": [],
   "source": [
    "# Should have all millennial posts at the bottom\n",
    "all_posts.tail()"
   ]
  },
  {
   "cell_type": "code",
   "execution_count": 299,
   "id": "8c8eab96-a4e3-4245-9fe8-44105ad96c22",
   "metadata": {
    "tags": []
   },
   "outputs": [
    {
     "name": "stdout",
     "output_type": "stream",
     "text": [
      "(965, 3)\n",
      "(961, 3)\n",
      "(1926, 3)\n"
     ]
    }
   ],
   "source": [
    "# rows in all_posts should equal rows in gen z df plus rows in millenials df\n",
    "print(genz_posts_df.shape)\n",
    "print(mill_posts_df.shape)\n",
    "print(all_posts.shape)"
   ]
  },
  {
   "cell_type": "markdown",
   "id": "21768557-721a-4f60-a856-29347b0a7b3f",
   "metadata": {},
   "source": [
    "### Export to .csv"
   ]
  },
  {
   "cell_type": "markdown",
   "id": "14af503f-cc03-49bf-8f63-7dc602158e1c",
   "metadata": {},
   "source": [
    "Let's store this as a .csv file. That way we can read it into other notebooks for our models."
   ]
  },
  {
   "cell_type": "code",
   "execution_count": 301,
   "id": "2a56e073-4845-46cc-a460-868af33aa741",
   "metadata": {
    "tags": []
   },
   "outputs": [],
   "source": [
    "all_posts.to_csv('../data/combined_genz_mill_posts.csv', index = False)"
   ]
  },
  {
   "cell_type": "markdown",
   "id": "deee7c2d-ce5d-4878-9784-0ccf4c58299f",
   "metadata": {},
   "source": [
    "Just to be safe, let's read our data back in to make sure it stored properly."
   ]
  },
  {
   "cell_type": "code",
   "execution_count": 2,
   "id": "f47938d1-a162-4a1a-a203-d9540ae4c120",
   "metadata": {
    "tags": []
   },
   "outputs": [],
   "source": [
    "test = pd.read_csv('../data/combined_genz_mill_posts.csv')"
   ]
  },
  {
   "cell_type": "code",
   "execution_count": 3,
   "id": "d76533a5-a71b-4db2-a57c-10d1b19c4d5d",
   "metadata": {
    "tags": []
   },
   "outputs": [
    {
     "name": "stdout",
     "output_type": "stream",
     "text": [
      "(1926, 3)\n"
     ]
    },
    {
     "data": {
      "text/html": [
       "<div>\n",
       "<style scoped>\n",
       "    .dataframe tbody tr th:only-of-type {\n",
       "        vertical-align: middle;\n",
       "    }\n",
       "\n",
       "    .dataframe tbody tr th {\n",
       "        vertical-align: top;\n",
       "    }\n",
       "\n",
       "    .dataframe thead th {\n",
       "        text-align: right;\n",
       "    }\n",
       "</style>\n",
       "<table border=\"1\" class=\"dataframe\">\n",
       "  <thead>\n",
       "    <tr style=\"text-align: right;\">\n",
       "      <th></th>\n",
       "      <th>title</th>\n",
       "      <th>selftext</th>\n",
       "      <th>subreddit</th>\n",
       "    </tr>\n",
       "  </thead>\n",
       "  <tbody>\n",
       "    <tr>\n",
       "      <th>0</th>\n",
       "      <td>What have you learned this week?</td>\n",
       "      <td>NaN</td>\n",
       "      <td>r/GenZ</td>\n",
       "    </tr>\n",
       "    <tr>\n",
       "      <th>1</th>\n",
       "      <td>r/GenZ Is in need of more moderators! Read below:</td>\n",
       "      <td>In the past few months, we've been getting inc...</td>\n",
       "      <td>r/GenZ</td>\n",
       "    </tr>\n",
       "    <tr>\n",
       "      <th>2</th>\n",
       "      <td>Who else remembers Net Neutrality and when thi...</td>\n",
       "      <td>NaN</td>\n",
       "      <td>r/GenZ</td>\n",
       "    </tr>\n",
       "    <tr>\n",
       "      <th>3</th>\n",
       "      <td>This sub lately.</td>\n",
       "      <td>NaN</td>\n",
       "      <td>r/GenZ</td>\n",
       "    </tr>\n",
       "    <tr>\n",
       "      <th>4</th>\n",
       "      <td>You guys are absolutely pathetic</td>\n",
       "      <td>Where do I even start? It's just constant comp...</td>\n",
       "      <td>r/GenZ</td>\n",
       "    </tr>\n",
       "  </tbody>\n",
       "</table>\n",
       "</div>"
      ],
      "text/plain": [
       "                                               title  \\\n",
       "0                   What have you learned this week?   \n",
       "1  r/GenZ Is in need of more moderators! Read below:   \n",
       "2  Who else remembers Net Neutrality and when thi...   \n",
       "3                                   This sub lately.   \n",
       "4                   You guys are absolutely pathetic   \n",
       "\n",
       "                                            selftext subreddit  \n",
       "0                                                NaN    r/GenZ  \n",
       "1  In the past few months, we've been getting inc...    r/GenZ  \n",
       "2                                                NaN    r/GenZ  \n",
       "3                                                NaN    r/GenZ  \n",
       "4  Where do I even start? It's just constant comp...    r/GenZ  "
      ]
     },
     "execution_count": 3,
     "metadata": {},
     "output_type": "execute_result"
    }
   ],
   "source": [
    "print(test.shape)\n",
    "test.head()"
   ]
  },
  {
   "cell_type": "code",
   "execution_count": 4,
   "id": "ca666421-aea1-4284-9980-dd09a31279b4",
   "metadata": {
    "tags": []
   },
   "outputs": [
    {
     "data": {
      "text/html": [
       "<div>\n",
       "<style scoped>\n",
       "    .dataframe tbody tr th:only-of-type {\n",
       "        vertical-align: middle;\n",
       "    }\n",
       "\n",
       "    .dataframe tbody tr th {\n",
       "        vertical-align: top;\n",
       "    }\n",
       "\n",
       "    .dataframe thead th {\n",
       "        text-align: right;\n",
       "    }\n",
       "</style>\n",
       "<table border=\"1\" class=\"dataframe\">\n",
       "  <thead>\n",
       "    <tr style=\"text-align: right;\">\n",
       "      <th></th>\n",
       "      <th>title</th>\n",
       "      <th>selftext</th>\n",
       "      <th>subreddit</th>\n",
       "    </tr>\n",
       "  </thead>\n",
       "  <tbody>\n",
       "    <tr>\n",
       "      <th>1921</th>\n",
       "      <td>🏴‍☠️ Anyone miss the golden age of internet pi...</td>\n",
       "      <td>NaN</td>\n",
       "      <td>r/Millennials</td>\n",
       "    </tr>\n",
       "    <tr>\n",
       "      <th>1922</th>\n",
       "      <td>Who else used to call time and temp as childre...</td>\n",
       "      <td>I remember my siblings and I would call it non...</td>\n",
       "      <td>r/Millennials</td>\n",
       "    </tr>\n",
       "    <tr>\n",
       "      <th>1923</th>\n",
       "      <td>Millennial Aunts and Uncles: How many of you f...</td>\n",
       "      <td>I’m a 43 year old elder Millennial and proud u...</td>\n",
       "      <td>r/Millennials</td>\n",
       "    </tr>\n",
       "    <tr>\n",
       "      <th>1924</th>\n",
       "      <td>All the nostalgia music for our generation is ...</td>\n",
       "      <td>I kind of understand the when we were young th...</td>\n",
       "      <td>r/Millennials</td>\n",
       "    </tr>\n",
       "    <tr>\n",
       "      <th>1925</th>\n",
       "      <td>“Our Employees are Family” Meme. First-hand ex...</td>\n",
       "      <td>[Article the meme is from](https://open.substa...</td>\n",
       "      <td>r/Millennials</td>\n",
       "    </tr>\n",
       "  </tbody>\n",
       "</table>\n",
       "</div>"
      ],
      "text/plain": [
       "                                                  title  \\\n",
       "1921  🏴‍☠️ Anyone miss the golden age of internet pi...   \n",
       "1922  Who else used to call time and temp as childre...   \n",
       "1923  Millennial Aunts and Uncles: How many of you f...   \n",
       "1924  All the nostalgia music for our generation is ...   \n",
       "1925  “Our Employees are Family” Meme. First-hand ex...   \n",
       "\n",
       "                                               selftext      subreddit  \n",
       "1921                                                NaN  r/Millennials  \n",
       "1922  I remember my siblings and I would call it non...  r/Millennials  \n",
       "1923  I’m a 43 year old elder Millennial and proud u...  r/Millennials  \n",
       "1924  I kind of understand the when we were young th...  r/Millennials  \n",
       "1925  [Article the meme is from](https://open.substa...  r/Millennials  "
      ]
     },
     "execution_count": 4,
     "metadata": {},
     "output_type": "execute_result"
    }
   ],
   "source": [
    "test.tail()"
   ]
  },
  {
   "cell_type": "code",
   "execution_count": null,
   "id": "737bf343-a95a-45cd-af62-c6229dd0dda0",
   "metadata": {},
   "outputs": [],
   "source": []
  }
 ],
 "metadata": {
  "kernelspec": {
   "display_name": "Python 3 (ipykernel)",
   "language": "python",
   "name": "python3"
  },
  "language_info": {
   "codemirror_mode": {
    "name": "ipython",
    "version": 3
   },
   "file_extension": ".py",
   "mimetype": "text/x-python",
   "name": "python",
   "nbconvert_exporter": "python",
   "pygments_lexer": "ipython3",
   "version": "3.9.18"
  }
 },
 "nbformat": 4,
 "nbformat_minor": 5
}
